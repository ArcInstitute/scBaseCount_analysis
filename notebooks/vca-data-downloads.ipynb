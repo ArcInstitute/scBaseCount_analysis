{
 "cells": [
  {
   "cell_type": "markdown",
   "metadata": {},
   "source": [
    "# Goal\n",
    "\n",
    "* Approximate the number of times that each arc-VCA dataset has been downloaded\n"
   ]
  },
  {
   "cell_type": "code",
   "execution_count": 24,
   "metadata": {},
   "outputs": [],
   "source": [
    "from google.cloud import monitoring\n",
    "from google.cloud import storage\n",
    "import datetime"
   ]
  },
  {
   "cell_type": "code",
   "execution_count": 25,
   "metadata": {},
   "outputs": [],
   "source": [
    "# set variables\n",
    "project_id = 'c-tc-429521'\n",
    "egress_cost_per_tb = 120    # dollars per TB\n",
    "days_ago = (datetime.datetime.now() - datetime.datetime(2025, 2, 25)).days"
   ]
  },
  {
   "cell_type": "code",
   "execution_count": 26,
   "metadata": {},
   "outputs": [],
   "source": [
    "# Convert to readable format\n",
    "def human_readable_size(size_bytes):\n",
    "    \"\"\"Convert bytes to human readable format (KB, MB, GB, etc.)\"\"\"\n",
    "    if size_bytes == 0:\n",
    "        return \"0B\"\n",
    "    \n",
    "    size_names = (\"B\", \"KB\", \"MB\", \"GB\", \"TB\", \"PB\", \"EB\", \"ZB\", \"YB\")\n",
    "    i = 0\n",
    "    while size_bytes >= 1024 and i < len(size_names) - 1:\n",
    "        size_bytes /= 1024\n",
    "        i += 1\n",
    "    \n",
    "    return f\"{size_bytes:.2f} {size_names[i]}\""
   ]
  },
  {
   "cell_type": "code",
   "execution_count": 27,
   "metadata": {},
   "outputs": [],
   "source": [
    "def get_bucket_egress(project_id, bucket_name, days_ago=30):\n",
    "    client = monitoring.MetricServiceClient()\n",
    "    project_name = f\"projects/{project_id}\"\n",
    "    \n",
    "    # Define the time interval (last N days)\n",
    "    now = datetime.datetime.utcnow()\n",
    "    seconds = int(now.timestamp())\n",
    "    start_seconds = seconds - (days_ago * 24 * 60 * 60)\n",
    "    \n",
    "    # Create the time interval using the correct structure\n",
    "    interval = monitoring.TimeInterval(\n",
    "        start_time={\"seconds\": start_seconds},\n",
    "        end_time={\"seconds\": seconds},\n",
    "    )\n",
    "    \n",
    "    # Define the filter string directly\n",
    "    filter_str = (\n",
    "        f'metric.type=\"storage.googleapis.com/network/sent_bytes_count\"'\n",
    "        f' AND resource.type=\"gcs_bucket\"'\n",
    "        f' AND resource.labels.bucket_name=\"{bucket_name}\"'\n",
    "    )\n",
    "    \n",
    "    # Create the request\n",
    "    request = monitoring.ListTimeSeriesRequest(\n",
    "        name=project_name,\n",
    "        filter=filter_str,\n",
    "        interval=interval,\n",
    "    )\n",
    "    \n",
    "    # Execute the query and aggregate the results\n",
    "    total_bytes = 0\n",
    "    for time_series in client.list_time_series(request):\n",
    "        for point in time_series.points:    \n",
    "            if hasattr(point.value, 'int64_value'):\n",
    "                total_bytes += point.value.int64_value\n",
    "            elif hasattr(point.value, 'double_value'):\n",
    "                total_bytes += point.value.double_value\n",
    "            else:\n",
    "                print(f\"Unknown value type: {type(point.value)}\")\n",
    "                return None\n",
    "    \n",
    "    return total_bytes\n"
   ]
  },
  {
   "cell_type": "code",
   "execution_count": 28,
   "metadata": {},
   "outputs": [],
   "source": [
    "def get_folder_size(bucket_name, prefix):\n",
    "    \"\"\"\n",
    "    Calculate the total size of all objects in a folder (prefix) in a GCP bucket.\n",
    "    \n",
    "    Args:\n",
    "        bucket_name (str): Name of the GCS bucket\n",
    "        prefix (str): The folder prefix to calculate size for (e.g., \"folder/subfolder/\")\n",
    "    \n",
    "    Returns:\n",
    "        int: Total size in bytes\n",
    "        int: Number of files\n",
    "    \"\"\"\n",
    "    # Make sure the prefix ends with a slash if it's meant to be a folder\n",
    "    if prefix and not prefix.endswith('/'):\n",
    "        prefix += '/'\n",
    "    \n",
    "    # Initialize the storage client\n",
    "    storage_client = storage.Client()\n",
    "    \n",
    "    # Get the bucket\n",
    "    bucket = storage_client.get_bucket(bucket_name)\n",
    "    \n",
    "    # List all blobs with the given prefix\n",
    "    blobs = bucket.list_blobs(prefix=prefix)\n",
    "    \n",
    "    # Calculate total size\n",
    "    total_size = 0\n",
    "    file_count = 0\n",
    "    \n",
    "    for blob in blobs:\n",
    "        # Skip the directory marker itself if it exists as an object\n",
    "        if blob.name == prefix:\n",
    "            continue\n",
    "        \n",
    "        total_size += blob.size\n",
    "        file_count += 1\n",
    "    \n",
    "    return total_size, file_count"
   ]
  },
  {
   "cell_type": "markdown",
   "metadata": {},
   "source": [
    "## Tahoe100"
   ]
  },
  {
   "cell_type": "code",
   "execution_count": 29,
   "metadata": {},
   "outputs": [
    {
     "name": "stderr",
     "output_type": "stream",
     "text": [
      "/tmp/ipykernel_2776528/343448857.py:6: DeprecationWarning: datetime.datetime.utcnow() is deprecated and scheduled for removal in a future version. Use timezone-aware objects to represent datetimes in UTC: datetime.datetime.now(datetime.UTC).\n",
      "  now = datetime.datetime.utcnow()\n"
     ]
    },
    {
     "name": "stdout",
     "output_type": "stream",
     "text": [
      "Total egress: 108.32 TB\n"
     ]
    }
   ],
   "source": [
    "# Total egress\n",
    "total_egress_bytes = get_bucket_egress(project_id, \"arc-ctc-tahoe100\", days_ago=days_ago)\n",
    "total_egress_gb = total_egress_bytes / (1024**3)\n",
    "print(f\"Total egress: {human_readable_size(total_egress_bytes)}\")"
   ]
  },
  {
   "cell_type": "code",
   "execution_count": 30,
   "metadata": {},
   "outputs": [
    {
     "name": "stdout",
     "output_type": "stream",
     "text": [
      "Total size: 315.75 GB\n"
     ]
    }
   ],
   "source": [
    "# 2025-02-25 folder size\n",
    "total_size_bytes, num_files = get_folder_size('arc-ctc-tahoe100', '2025-02-25')\n",
    "total_size_gb = total_size_bytes / (1024**3)\n",
    "print(f\"Total size: {human_readable_size(total_size_bytes)}\")"
   ]
  },
  {
   "cell_type": "code",
   "execution_count": 31,
   "metadata": {},
   "outputs": [
    {
     "name": "stdout",
     "output_type": "stream",
     "text": [
      "Number of downloads: 351.3\n"
     ]
    }
   ],
   "source": [
    "# egress divided by size of the dataset\n",
    "num_downloads = total_egress_gb / total_size_gb\n",
    "print(f\"Number of downloads: {num_downloads:.1f}\")"
   ]
  },
  {
   "cell_type": "markdown",
   "metadata": {},
   "source": [
    "### Costs"
   ]
  },
  {
   "cell_type": "code",
   "execution_count": 32,
   "metadata": {},
   "outputs": [
    {
     "name": "stdout",
     "output_type": "stream",
     "text": [
      "Total cost: $12998.60\n"
     ]
    }
   ],
   "source": [
    "# multiple total egress by egress cost per TB\n",
    "total_cost = total_egress_gb / 1024 * egress_cost_per_tb\n",
    "print(f\"Total cost: ${total_cost:.2f}\")"
   ]
  },
  {
   "cell_type": "code",
   "execution_count": 33,
   "metadata": {},
   "outputs": [
    {
     "name": "stdout",
     "output_type": "stream",
     "text": [
      "Total cost per day: $154.75\n"
     ]
    }
   ],
   "source": [
    "# per day\n",
    "total_cost_per_day = total_cost / days_ago\n",
    "print(f\"Total cost per day: ${total_cost_per_day:.2f}\")"
   ]
  },
  {
   "cell_type": "markdown",
   "metadata": {},
   "source": [
    "# scBaseCount (Camp)"
   ]
  },
  {
   "cell_type": "code",
   "execution_count": 34,
   "metadata": {},
   "outputs": [
    {
     "name": "stderr",
     "output_type": "stream",
     "text": [
      "/tmp/ipykernel_2776528/343448857.py:6: DeprecationWarning: datetime.datetime.utcnow() is deprecated and scheduled for removal in a future version. Use timezone-aware objects to represent datetimes in UTC: datetime.datetime.now(datetime.UTC).\n",
      "  now = datetime.datetime.utcnow()\n"
     ]
    },
    {
     "name": "stdout",
     "output_type": "stream",
     "text": [
      "Total egress: 392.13 TB\n"
     ]
    }
   ],
   "source": [
    "# Total egress for scBaseCount\n",
    "total_egress_bytes = get_bucket_egress(project_id, \"arc-ctc-scbasecamp\", days_ago=days_ago)\n",
    "total_egress_gb = total_egress_bytes / (1024**3)\n",
    "print(f\"Total egress: {human_readable_size(total_egress_bytes)}\")"
   ]
  },
  {
   "cell_type": "code",
   "execution_count": 35,
   "metadata": {},
   "outputs": [
    {
     "name": "stderr",
     "output_type": "stream",
     "text": [
      "/tmp/ipykernel_2776528/343448857.py:6: DeprecationWarning: datetime.datetime.utcnow() is deprecated and scheduled for removal in a future version. Use timezone-aware objects to represent datetimes in UTC: datetime.datetime.now(datetime.UTC).\n",
      "  now = datetime.datetime.utcnow()\n"
     ]
    },
    {
     "name": "stdout",
     "output_type": "stream",
     "text": [
      "Total egress: 394.25 TB\n"
     ]
    }
   ],
   "source": [
    "# Total egress for scBaseCamp\n",
    "total_egress_bytes += get_bucket_egress(project_id, \"arc-scbasecount\", days_ago=days_ago)\n",
    "total_egress_gb = total_egress_bytes / (1024**3)\n",
    "print(f\"Total egress: {human_readable_size(total_egress_bytes)}\")"
   ]
  },
  {
   "cell_type": "code",
   "execution_count": 36,
   "metadata": {},
   "outputs": [
    {
     "name": "stdout",
     "output_type": "stream",
     "text": [
      "Total size: 8.10 TB\n"
     ]
    }
   ],
   "source": [
    "# Total folder size\n",
    "total_size_bytes, num_files = get_folder_size('arc-scbasecount', '2025-02-25')\n",
    "total_size_gb = total_size_bytes / (1024**3)\n",
    "print(f\"Total size: {human_readable_size(total_size_bytes)}\")"
   ]
  },
  {
   "cell_type": "code",
   "execution_count": 37,
   "metadata": {},
   "outputs": [
    {
     "name": "stdout",
     "output_type": "stream",
     "text": [
      "Number of downloads: 48.7\n"
     ]
    }
   ],
   "source": [
    "# egress divided by size of the dataset\n",
    "num_downloads = total_egress_gb / total_size_gb\n",
    "print(f\"Number of downloads: {num_downloads:.1f}\")"
   ]
  },
  {
   "cell_type": "code",
   "execution_count": 40,
   "metadata": {},
   "outputs": [
    {
     "name": "stdout",
     "output_type": "stream",
     "text": [
      "Number of downloads: 243.4\n"
     ]
    }
   ],
   "source": [
    "# egress divided by size of the dataset => assuming dataset is 1 of the 5 feature types\n",
    "num_downloads = total_egress_gb / (total_size_gb / 5)\n",
    "print(f\"Number of downloads: {num_downloads:.1f}\")"
   ]
  },
  {
   "cell_type": "markdown",
   "metadata": {},
   "source": [
    "### Costs"
   ]
  },
  {
   "cell_type": "code",
   "execution_count": 38,
   "metadata": {},
   "outputs": [
    {
     "name": "stdout",
     "output_type": "stream",
     "text": [
      "Total cost: $47310.30\n"
     ]
    }
   ],
   "source": [
    "# multiple total egress by egress cost per TB\n",
    "total_cost = total_egress_gb / 1024 * egress_cost_per_tb\n",
    "print(f\"Total cost: ${total_cost:.2f}\")"
   ]
  },
  {
   "cell_type": "code",
   "execution_count": 39,
   "metadata": {},
   "outputs": [
    {
     "name": "stdout",
     "output_type": "stream",
     "text": [
      "Total cost per day: $563.22\n"
     ]
    }
   ],
   "source": [
    "# per day\n",
    "total_cost_per_day = total_cost / days_ago\n",
    "print(f\"Total cost per day: ${total_cost_per_day:.2f}\")"
   ]
  },
  {
   "cell_type": "markdown",
   "metadata": {},
   "source": [
    "# session info"
   ]
  },
  {
   "cell_type": "code",
   "execution_count": 125,
   "metadata": {},
   "outputs": [
    {
     "name": "stdout",
     "output_type": "stream",
     "text": [
      "# packages in environment at /home/nickyoungblut/miniforge3/envs/tiledb:\n",
      "#\n",
      "# Name                    Version                   Build  Channel\n",
      "_libgcc_mutex             0.1                 conda_forge    conda-forge\n",
      "_openmp_mutex             4.5                       2_gnu    conda-forge\n",
      "aiobotocore               2.19.0                   pypi_0    pypi\n",
      "aiohappyeyeballs          2.4.4              pyhd8ed1ab_1    conda-forge\n",
      "aiohttp                   3.11.11         py312h178313f_0    conda-forge\n",
      "aioitertools              0.12.0                   pypi_0    pypi\n",
      "aiosignal                 1.3.2              pyhd8ed1ab_0    conda-forge\n",
      "anndata                   0.11.3             pyhd8ed1ab_0    conda-forge\n",
      "array-api-compat          1.10.0             pyhd8ed1ab_0    conda-forge\n",
      "asttokens                 3.0.0              pyhd8ed1ab_1    conda-forge\n",
      "attrs                     25.1.0             pyh71513ae_0    conda-forge\n",
      "aws-c-auth                0.9.0                h66f1c83_6    conda-forge\n",
      "aws-c-cal                 0.9.0                hada3f3f_0    conda-forge\n",
      "aws-c-common              0.12.2               hb9d3cd8_0    conda-forge\n",
      "aws-c-compression         0.3.1                hc2d532b_4    conda-forge\n",
      "aws-c-event-stream        0.5.4                h9312af0_8    conda-forge\n",
      "aws-c-http                0.10.1               hc373b34_0    conda-forge\n",
      "aws-c-io                  0.19.0               h756d8c7_1    conda-forge\n",
      "aws-c-mqtt                0.13.0               h034c9a0_2    conda-forge\n",
      "aws-c-s3                  0.7.17               h73c4702_1    conda-forge\n",
      "aws-c-sdkutils            0.2.3                hc2d532b_4    conda-forge\n",
      "aws-checksums             0.2.7                hc2d532b_0    conda-forge\n",
      "aws-crt-cpp               0.32.5               h5e5e39d_2    conda-forge\n",
      "aws-sdk-cpp               1.11.510             h7cc6b5f_7    conda-forge\n",
      "azure-core-cpp            1.14.0               h5cfcd09_0    conda-forge\n",
      "azure-identity-cpp        1.10.0               h113e628_0    conda-forge\n",
      "azure-storage-blobs-cpp   12.13.0              h3cf044e_1    conda-forge\n",
      "azure-storage-common-cpp  12.8.0               h736e048_1    conda-forge\n",
      "azure-storage-files-datalake-cpp 12.12.0              ha633028_1    conda-forge\n",
      "beautifulsoup4            4.13.3             pyha770c72_0    conda-forge\n",
      "botocore                  1.36.3                   pypi_0    pypi\n",
      "brotli                    1.1.0                hb9d3cd8_2    conda-forge\n",
      "brotli-bin                1.1.0                hb9d3cd8_2    conda-forge\n",
      "brotli-python             1.1.0           py312h2ec8cdc_2    conda-forge\n",
      "bzip2                     1.0.8                h4bc722e_7    conda-forge\n",
      "c-ares                    1.34.4               hb9d3cd8_0    conda-forge\n",
      "ca-certificates           2025.1.31            hbcca054_0    conda-forge\n",
      "cached-property           1.5.2                hd8ed1ab_1    conda-forge\n",
      "cached_property           1.5.2              pyha770c72_1    conda-forge\n",
      "cachetools                5.5.1              pyhd8ed1ab_0    conda-forge\n",
      "capnproto                 1.0.2                h766bdaa_3    conda-forge\n",
      "cellxgene-census          1.16.2                   pypi_0    pypi\n",
      "certifi                   2024.12.14         pyhd8ed1ab_0    conda-forge\n",
      "cffi                      1.17.1          py312h06ac9bb_0    conda-forge\n",
      "charset-normalizer        3.4.1              pyhd8ed1ab_0    conda-forge\n",
      "colorama                  0.4.6              pyhd8ed1ab_1    conda-forge\n",
      "comm                      0.2.2              pyhd8ed1ab_1    conda-forge\n",
      "contourpy                 1.3.1           py312h68727a3_0    conda-forge\n",
      "cryptography              44.0.0          py312hda17c39_1    conda-forge\n",
      "cycler                    0.12.1             pyhd8ed1ab_1    conda-forge\n",
      "cyrus-sasl                2.1.27               h54b06d7_7    conda-forge\n",
      "debugpy                   1.8.12          py312h2ec8cdc_0    conda-forge\n",
      "decorator                 5.1.1              pyhd8ed1ab_1    conda-forge\n",
      "exceptiongroup            1.2.2              pyhd8ed1ab_1    conda-forge\n",
      "executing                 2.1.0              pyhd8ed1ab_1    conda-forge\n",
      "fmt                       11.1.4               h07f6e7f_1    conda-forge\n",
      "fonttools                 4.55.6          py312h178313f_0    conda-forge\n",
      "freetype                  2.12.1               h267a509_2    conda-forge\n",
      "frozenlist                1.5.0           py312h178313f_1    conda-forge\n",
      "fsspec                    2025.2.0                 pypi_0    pypi\n",
      "gcsfs                     2025.2.0                 pypi_0    pypi\n",
      "geos                      3.13.0               h5888daf_0    conda-forge\n",
      "gflags                    2.2.2             h5888daf_1005    conda-forge\n",
      "gget                      0.29.0             pyh29332c3_0    conda-forge\n",
      "glog                      0.7.1                hbabe93e_0    conda-forge\n",
      "google-api-core           2.24.0             pyhd8ed1ab_0    conda-forge\n",
      "google-api-core-grpc      2.24.0               hd8ed1ab_0    conda-forge\n",
      "google-auth               2.38.0             pyhd8ed1ab_0    conda-forge\n",
      "google-auth-oauthlib      1.2.1                    pypi_0    pypi\n",
      "google-cloud-core         2.4.2                    pypi_0    pypi\n",
      "google-cloud-monitoring   2.27.1             pyhd8ed1ab_0    conda-forge\n",
      "google-cloud-secret-manager 2.22.1             pyhd8ed1ab_0    conda-forge\n",
      "google-cloud-storage      3.0.0                    pypi_0    pypi\n",
      "google-crc32c             1.6.0                    pypi_0    pypi\n",
      "google-resumable-media    2.7.2                    pypi_0    pypi\n",
      "googleapis-common-protos  1.66.0             pyhff2d567_0    conda-forge\n",
      "googleapis-common-protos-grpc 1.66.0             pyhff2d567_0    conda-forge\n",
      "grpc-google-iam-v1        0.14.0             pyhd8ed1ab_0    conda-forge\n",
      "grpcio                    1.71.0          py312h9c3ccc5_0    conda-forge\n",
      "grpcio-status             1.67.1             pyhd8ed1ab_1    conda-forge\n",
      "h2                        4.1.0              pyhd8ed1ab_1    conda-forge\n",
      "h5py                      3.12.1          nompi_py312hd203070_103    conda-forge\n",
      "hdf5                      1.14.4          nompi_h2d575fe_105    conda-forge\n",
      "hpack                     4.1.0              pyhd8ed1ab_0    conda-forge\n",
      "hyperframe                6.1.0              pyhd8ed1ab_0    conda-forge\n",
      "icu                       75.1                 he02047a_0    conda-forge\n",
      "idna                      3.10               pyhd8ed1ab_1    conda-forge\n",
      "importlib-metadata        8.6.1              pyha770c72_0    conda-forge\n",
      "ipykernel                 6.29.5             pyh3099207_0    conda-forge\n",
      "ipython                   8.31.0             pyh707e725_0    conda-forge\n",
      "ipywidgets                8.1.5              pyhd8ed1ab_1    conda-forge\n",
      "jedi                      0.19.2             pyhd8ed1ab_1    conda-forge\n",
      "jmespath                  1.0.1                    pypi_0    pypi\n",
      "joblib                    1.4.2              pyhd8ed1ab_1    conda-forge\n",
      "jupyter_client            8.6.3              pyhd8ed1ab_1    conda-forge\n",
      "jupyter_core              5.7.2              pyh31011fe_1    conda-forge\n",
      "jupyterlab_widgets        3.0.13             pyhd8ed1ab_1    conda-forge\n",
      "keyutils                  1.6.1                h166bdaf_0    conda-forge\n",
      "kiwisolver                1.4.8           py312h84d6215_0    conda-forge\n",
      "krb5                      1.21.3               h659f571_0    conda-forge\n",
      "lcms2                     2.16                 hb7c19ff_0    conda-forge\n",
      "ld_impl_linux-64          2.43                 h712a8e2_2    conda-forge\n",
      "legacy-api-wrap           1.4.1              pyhd8ed1ab_0    conda-forge\n",
      "lerc                      4.0.0                h27087fc_0    conda-forge\n",
      "libabseil                 20250127.1      cxx17_hbbce691_0    conda-forge\n",
      "libaec                    1.1.3                h59595ed_0    conda-forge\n",
      "libarrow                  20.0.0           hebdba27_3_cpu    conda-forge\n",
      "libarrow-acero            20.0.0           hcb10f89_3_cpu    conda-forge\n",
      "libarrow-dataset          20.0.0           hcb10f89_3_cpu    conda-forge\n",
      "libarrow-substrait        20.0.0           h1bed206_3_cpu    conda-forge\n",
      "libblas                   3.9.0           26_linux64_openblas    conda-forge\n",
      "libbrotlicommon           1.1.0                hb9d3cd8_2    conda-forge\n",
      "libbrotlidec              1.1.0                hb9d3cd8_2    conda-forge\n",
      "libbrotlienc              1.1.0                hb9d3cd8_2    conda-forge\n",
      "libcblas                  3.9.0           26_linux64_openblas    conda-forge\n",
      "libcrc32c                 1.1.2                h9c3ff4c_0    conda-forge\n",
      "libcurl                   8.13.0               h332b0f4_0    conda-forge\n",
      "libdeflate                1.23                 h4ddbbb0_0    conda-forge\n",
      "libedit                   3.1.20240808    pl5321h7949ede_0    conda-forge\n",
      "libev                     4.33                 hd590300_2    conda-forge\n",
      "libevent                  2.1.12               hf998b51_1    conda-forge\n",
      "libexpat                  2.6.4                h5888daf_0    conda-forge\n",
      "libffi                    3.4.2                h7f98852_5    conda-forge\n",
      "libgcc                    14.2.0               h77fa898_1    conda-forge\n",
      "libgcc-ng                 14.2.0               h69a702a_1    conda-forge\n",
      "libgfortran               14.2.0               h69a702a_1    conda-forge\n",
      "libgfortran5              14.2.0               hd5240d6_1    conda-forge\n",
      "libgomp                   14.2.0               h77fa898_1    conda-forge\n",
      "libgoogle-cloud           2.36.0               hc4361e1_1    conda-forge\n",
      "libgoogle-cloud-storage   2.36.0               h0121fbd_1    conda-forge\n",
      "libgrpc                   1.71.0               he753a82_0    conda-forge\n",
      "libhwloc                  2.11.2          default_h0d58e46_1001    conda-forge\n",
      "libiconv                  1.17                 hd590300_2    conda-forge\n",
      "libjpeg-turbo             3.0.0                hd590300_1    conda-forge\n",
      "liblapack                 3.9.0           26_linux64_openblas    conda-forge\n",
      "libllvm14                 14.0.6               hcd5def8_4    conda-forge\n",
      "liblzma                   5.6.3                hb9d3cd8_1    conda-forge\n",
      "libnghttp2                1.64.0               h161d5f1_0    conda-forge\n",
      "libnsl                    2.0.1                hd590300_0    conda-forge\n",
      "libntlm                   1.8                  hb9d3cd8_0    conda-forge\n",
      "libopenblas               0.3.28          pthreads_h94d23a6_1    conda-forge\n",
      "libopentelemetry-cpp      1.20.0               hd1b1c89_0    conda-forge\n",
      "libopentelemetry-cpp-headers 1.20.0               ha770c72_0    conda-forge\n",
      "libparquet                20.0.0           h081d1f1_3_cpu    conda-forge\n",
      "libpng                    1.6.46               h943b412_0    conda-forge\n",
      "libpq                     17.2                 h3b95a9b_1    conda-forge\n",
      "libprotobuf               5.29.3               h501fc15_1    conda-forge\n",
      "libre2-11                 2024.07.02           hba17884_3    conda-forge\n",
      "libsodium                 1.0.20               h4ab18f5_0    conda-forge\n",
      "libsqlite                 3.48.0               hee588c1_1    conda-forge\n",
      "libssh2                   1.11.1               hf672d98_0    conda-forge\n",
      "libstdcxx                 14.2.0               hc0a3c3a_1    conda-forge\n",
      "libstdcxx-ng              14.2.0               h4852527_1    conda-forge\n",
      "libthrift                 0.21.0               h0e7cc3e_0    conda-forge\n",
      "libtiff                   4.7.0                hd9ff511_3    conda-forge\n",
      "libtiledbsoma             1.16.2               h6b394ac_0    conda-forge\n",
      "libutf8proc               2.10.0               h4c51ac1_0    conda-forge\n",
      "libuuid                   2.38.1               h0b41bf4_0    conda-forge\n",
      "libwebp-base              1.5.0                h851e524_0    conda-forge\n",
      "libxcb                    1.17.0               h8a09558_0    conda-forge\n",
      "libxcrypt                 4.4.36               hd590300_1    conda-forge\n",
      "libxml2                   2.13.5               h8d12d68_1    conda-forge\n",
      "libxslt                   1.1.39               h76b75d6_0    conda-forge\n",
      "libzlib                   1.3.1                hb9d3cd8_2    conda-forge\n",
      "llvmlite                  0.43.0          py312h374181b_1    conda-forge\n",
      "lxml                      5.3.1           py312he28fd5a_0    conda-forge\n",
      "lz4-c                     1.10.0               h5888daf_1    conda-forge\n",
      "matplotlib-base           3.10.0          py312hd3ec401_0    conda-forge\n",
      "matplotlib-inline         0.1.7              pyhd8ed1ab_1    conda-forge\n",
      "mizani                    0.13.1             pyhd8ed1ab_0    conda-forge\n",
      "more-itertools            10.7.0             pyhd8ed1ab_0    conda-forge\n",
      "multidict                 6.1.0           py312h178313f_2    conda-forge\n",
      "munkres                   1.1.4              pyh9f0ad1d_0    conda-forge\n",
      "mysql-client              9.0.1                he0572af_4    conda-forge\n",
      "mysql-common              9.0.1                h266115a_4    conda-forge\n",
      "mysql-connector-python    9.0.0           py312h374181b_1    conda-forge\n",
      "mysql-libs                9.0.1                he0572af_4    conda-forge\n",
      "natsort                   8.4.0              pyh29332c3_1    conda-forge\n",
      "ncurses                   6.5                  h2d0b736_2    conda-forge\n",
      "nest-asyncio              1.6.0              pyhd8ed1ab_1    conda-forge\n",
      "networkx                  3.4.2              pyh267e887_2    conda-forge\n",
      "nlohmann_json             3.11.3               he02047a_1    conda-forge\n",
      "numba                     0.60.0          py312h83e6fd3_0    conda-forge\n",
      "numpy                     1.26.4                   pypi_0    pypi\n",
      "oauthlib                  3.2.2                    pypi_0    pypi\n",
      "openjpeg                  2.5.3                h5fbd93e_0    conda-forge\n",
      "openldap                  2.6.9                he970967_0    conda-forge\n",
      "openssl                   3.5.0                h7b32b05_1    conda-forge\n",
      "orc                       2.1.2                h17f744e_0    conda-forge\n",
      "packaging                 24.2               pyhd8ed1ab_2    conda-forge\n",
      "pandas                    2.2.3           py312hf9745cd_1    conda-forge\n",
      "parso                     0.8.4              pyhd8ed1ab_1    conda-forge\n",
      "patsy                     1.0.1              pyhd8ed1ab_1    conda-forge\n",
      "pexpect                   4.9.0              pyhd8ed1ab_1    conda-forge\n",
      "pickleshare               0.7.5           pyhd8ed1ab_1004    conda-forge\n",
      "pillow                    11.1.0          py312h80c1187_0    conda-forge\n",
      "pip                       25.0               pyh8b19718_0    conda-forge\n",
      "platformdirs              4.3.6              pyhd8ed1ab_1    conda-forge\n",
      "plotnine                  0.14.5             pyhd8ed1ab_0    conda-forge\n",
      "polars                    1.22.0                   pypi_0    pypi\n",
      "prometheus-cpp            1.3.0                ha5d0236_0    conda-forge\n",
      "prompt-toolkit            3.0.50             pyha770c72_0    conda-forge\n",
      "propcache                 0.2.1           py312h178313f_1    conda-forge\n",
      "proto-plus                1.26.0             pyhd8ed1ab_0    conda-forge\n",
      "protobuf                  5.29.3          py312h0f4f066_0    conda-forge\n",
      "psutil                    6.1.1           py312h66e93f0_0    conda-forge\n",
      "psycopg2                  2.9.9           py312hfaedaf9_2    conda-forge\n",
      "pthread-stubs             0.4               hb9d3cd8_1002    conda-forge\n",
      "ptyprocess                0.7.0              pyhd8ed1ab_1    conda-forge\n",
      "pure_eval                 0.2.3              pyhd8ed1ab_1    conda-forge\n",
      "pyarrow                   20.0.0          py312h7900ff3_0    conda-forge\n",
      "pyarrow-core              20.0.0          py312h01725c0_0_cpu    conda-forge\n",
      "pyarrow-hotfix            0.6                pyhd8ed1ab_1    conda-forge\n",
      "pyasn1                    0.6.1              pyhd8ed1ab_2    conda-forge\n",
      "pyasn1-modules            0.4.1              pyhd8ed1ab_1    conda-forge\n",
      "pycparser                 2.22               pyh29332c3_1    conda-forge\n",
      "pygments                  2.19.1             pyhd8ed1ab_0    conda-forge\n",
      "pynndescent               0.5.13             pyhd8ed1ab_1    conda-forge\n",
      "pyopenssl                 25.0.0             pyhd8ed1ab_0    conda-forge\n",
      "pyparsing                 3.2.1              pyhd8ed1ab_0    conda-forge\n",
      "pypika                    0.48.9             pyhd8ed1ab_1    conda-forge\n",
      "pysocks                   1.7.1              pyha55dd90_7    conda-forge\n",
      "python                    3.12.8          h9e4cc4f_1_cpython    conda-forge\n",
      "python-dateutil           2.9.0.post0        pyhff2d567_1    conda-forge\n",
      "python-dotenv             1.0.1              pyhd8ed1ab_1    conda-forge\n",
      "python-tzdata             2025.1             pyhd8ed1ab_0    conda-forge\n",
      "python_abi                3.12                    5_cp312    conda-forge\n",
      "pytz                      2024.1             pyhd8ed1ab_0    conda-forge\n",
      "pyu2f                     0.1.5              pyhd8ed1ab_1    conda-forge\n",
      "pyzmq                     26.2.0          py312hbf22597_3    conda-forge\n",
      "qhull                     2020.2               h434a139_5    conda-forge\n",
      "re2                       2024.07.02           h9925aae_3    conda-forge\n",
      "readline                  8.2                  h8228510_1    conda-forge\n",
      "requests                  2.32.3             pyhd8ed1ab_1    conda-forge\n",
      "requests-oauthlib         2.0.0                    pypi_0    pypi\n",
      "rsa                       4.9                pyhd8ed1ab_1    conda-forge\n",
      "s2n                       1.5.18               h763c568_1    conda-forge\n",
      "s3fs                      2025.2.0                 pypi_0    pypi\n",
      "scanpy                    1.10.4                   pypi_0    pypi\n",
      "scikit-learn              1.5.2           py312h7a48858_1    conda-forge\n",
      "scipy                     1.15.1          py312h180e4f1_0    conda-forge\n",
      "seaborn                   0.13.2               hd8ed1ab_3    conda-forge\n",
      "seaborn-base              0.13.2             pyhd8ed1ab_3    conda-forge\n",
      "session-info              1.0.0                    pypi_0    pypi\n",
      "session-info2             0.1.2              pyhd8ed1ab_0    conda-forge\n",
      "setuptools                75.8.0             pyhff2d567_0    conda-forge\n",
      "shapely                   2.0.6           py312h391bc85_2    conda-forge\n",
      "six                       1.17.0             pyhd8ed1ab_0    conda-forge\n",
      "snappy                    1.2.1                h8bd8927_1    conda-forge\n",
      "somacore                  1.0.26                   pypi_0    pypi\n",
      "soupsieve                 2.5                pyhd8ed1ab_1    conda-forge\n",
      "spdlog                    1.15.3               h10b92b3_0    conda-forge\n",
      "stack_data                0.6.3              pyhd8ed1ab_1    conda-forge\n",
      "statsmodels               0.14.4          py312hc0a28a1_0    conda-forge\n",
      "stdlib-list               0.11.0                   pypi_0    pypi\n",
      "tbb                       2022.0.0             hceb3a55_0    conda-forge\n",
      "threadpoolctl             3.5.0              pyhc1e730c_0    conda-forge\n",
      "tiledb                    0.33.3                   pypi_0    pypi\n",
      "tiledbsoma-py             1.16.2          py312h6095420_0    conda-forge\n",
      "tk                        8.6.13          noxft_h4845f30_101    conda-forge\n",
      "tornado                   6.4.2           py312h66e93f0_0    conda-forge\n",
      "tqdm                      4.67.1             pyhd8ed1ab_1    conda-forge\n",
      "traitlets                 5.14.3             pyhd8ed1ab_1    conda-forge\n",
      "typing-extensions         4.12.2               hd8ed1ab_1    conda-forge\n",
      "typing_extensions         4.12.2             pyha770c72_1    conda-forge\n",
      "tzdata                    2025a                h78e105d_0    conda-forge\n",
      "umap-learn                0.5.7           py312h7900ff3_0    conda-forge\n",
      "unicodedata2              16.0.0          py312h66e93f0_0    conda-forge\n",
      "urllib3                   2.3.0              pyhd8ed1ab_0    conda-forge\n",
      "wcwidth                   0.2.13             pyhd8ed1ab_1    conda-forge\n",
      "wheel                     0.45.1             pyhd8ed1ab_1    conda-forge\n",
      "widgetsnbextension        4.0.13             pyhd8ed1ab_1    conda-forge\n",
      "wrapt                     1.17.2                   pypi_0    pypi\n",
      "xorg-libxau               1.0.12               hb9d3cd8_0    conda-forge\n",
      "xorg-libxdmcp             1.1.5                hb9d3cd8_0    conda-forge\n",
      "yarl                      1.18.3          py312h178313f_1    conda-forge\n",
      "zeromq                    4.3.5                h3b0a872_7    conda-forge\n",
      "zipp                      3.21.0             pyhd8ed1ab_1    conda-forge\n",
      "zlib                      1.3.1                hb9d3cd8_2    conda-forge\n",
      "zstandard                 0.23.0          py312h66e93f0_2    conda-forge\n",
      "zstd                      1.5.7                hb8e6e7a_2    conda-forge\n"
     ]
    }
   ],
   "source": [
    "!conda list"
   ]
  }
 ],
 "metadata": {
  "kernelspec": {
   "display_name": "tiledb",
   "language": "python",
   "name": "python3"
  },
  "language_info": {
   "codemirror_mode": {
    "name": "ipython",
    "version": 3
   },
   "file_extension": ".py",
   "mimetype": "text/x-python",
   "name": "python",
   "nbconvert_exporter": "python",
   "pygments_lexer": "ipython3",
   "version": "3.12.8"
  }
 },
 "nbformat": 4,
 "nbformat_minor": 2
}
