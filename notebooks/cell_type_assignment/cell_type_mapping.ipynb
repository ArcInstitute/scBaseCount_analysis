{
 "cells": [
  {
   "cell_type": "code",
   "execution_count": null,
   "id": "e114989e-81ad-4c18-a6a9-5dba3fe2066b",
   "metadata": {},
   "outputs": [],
   "source": [
    "'''\n",
    "Mapping cell types to broder parent categories\n",
    "'''"
   ]
  },
  {
   "cell_type": "code",
   "execution_count": 1,
   "id": "56313020-f8da-4b14-ac3d-e1048fb5516a",
   "metadata": {
    "scrolled": true
   },
   "outputs": [],
   "source": [
    "import requests\n",
    "from collections import defaultdict, Counter\n",
    "import time\n",
    "import json\n",
    "from typing import Dict, List, Set, Tuple\n",
    "from tqdm import tqdm\n",
    "\n",
    "class CellMapper:\n",
    "    def __init__(self):\n",
    "        self.base_url = \"https://www.ebi.ac.uk/ols/api\"\n",
    "        self.ontology = \"cl\"\n",
    "        self.cache = {}\n",
    "    \n",
    "    def find_cl_id(self, cell_name):\n",
    "        if cell_name in self.cache:\n",
    "            return self.cache[cell_name]\n",
    "        \n",
    "        url = f\"{self.base_url}/search\"\n",
    "        params = {'q': cell_name, 'ontology': self.ontology, 'exact': 'true'}\n",
    "        \n",
    "        try:\n",
    "            response = requests.get(url, params=params)\n",
    "            data = response.json()\n",
    "            if 'response' in data and 'docs' in data['response'] and data['response']['docs']:\n",
    "                cl_id = data['response']['docs'][0].get('short_form')\n",
    "                self.cache[cell_name] = cl_id\n",
    "                time.sleep(0.1)\n",
    "                return cl_id\n",
    "        except:\n",
    "            pass\n",
    "        return None\n",
    "\n",
    "    def get_ancestors(self, cl_id):\n",
    "        cache_key = f\"ancestors_{cl_id}\"\n",
    "        if cache_key in self.cache:\n",
    "            return self.cache[cache_key]\n",
    "        \n",
    "        iri = f\"http://purl.obolibrary.org/obo/{cl_id}\"\n",
    "        encoded_iri = requests.utils.quote(requests.utils.quote(iri, safe=''), safe='')\n",
    "        url = f\"{self.base_url}/ontologies/{self.ontology}/terms/{encoded_iri}/hierarchicalAncestors\"\n",
    "        \n",
    "        try:\n",
    "            response = requests.get(url)\n",
    "            ancestors = []\n",
    "            if response.status_code == 200:\n",
    "                data = response.json()\n",
    "                if '_embedded' in data and 'terms' in data['_embedded']:\n",
    "                    for term in data['_embedded']['terms']:\n",
    "                        if term.get('obo_id') and 'CL' in term.get('obo_id'):\n",
    "                            ancestors.append(term.get('label'))\n",
    "            self.cache[cache_key] = ancestors\n",
    "            time.sleep(0.1)\n",
    "            return ancestors\n",
    "        except:\n",
    "            return []\n",
    "    \n",
    "    def get_parents(self, cl_id):\n",
    "        cache_key = f\"parents_{cl_id}\"\n",
    "        if cache_key in self.cache:\n",
    "            return self.cache[cache_key]\n",
    "        \n",
    "        iri = f\"http://purl.obolibrary.org/obo/{cl_id}\"\n",
    "        encoded_iri = requests.utils.quote(requests.utils.quote(iri, safe=''), safe='')\n",
    "        url = f\"{self.base_url}/ontologies/{self.ontology}/terms/{encoded_iri}/hierarchicalParents\"\n",
    "        \n",
    "        try:\n",
    "            response = requests.get(url)\n",
    "            parents = []\n",
    "            if response.status_code == 200:\n",
    "                data = response.json()\n",
    "                if '_embedded' in data and 'terms' in data['_embedded']:\n",
    "                    for term in data['_embedded']['terms']:\n",
    "                        if term.get('obo_id') and 'CL' in term.get('obo_id'):\n",
    "                            parents.append(term.get('label'))\n",
    "            self.cache[cache_key] = parents\n",
    "            time.sleep(0.1)\n",
    "            return parents\n",
    "        except:\n",
    "            return []\n",
    "\n",
    "    def get_children(self, cl_id):\n",
    "        cache_key = f\"children_{cl_id}\"\n",
    "        if cache_key in self.cache:\n",
    "            return self.cache[cache_key]\n",
    "        \n",
    "        iri = f\"http://purl.obolibrary.org/obo/{cl_id}\"\n",
    "        encoded_iri = requests.utils.quote(requests.utils.quote(iri, safe=''), safe='')\n",
    "        url = f\"{self.base_url}/ontologies/{self.ontology}/terms/{encoded_iri}/hierarchicalChildren\"\n",
    "        \n",
    "        try:\n",
    "            response = requests.get(url)\n",
    "            children = []\n",
    "            if response.status_code == 200:\n",
    "                data = response.json()\n",
    "                if '_embedded' in data and 'terms' in data['_embedded']:\n",
    "                    for term in data['_embedded']['terms']:\n",
    "                        if term.get('obo_id') and 'CL' in term.get('obo_id'):\n",
    "                            children.append(term.get('label'))\n",
    "            self.cache[cache_key] = children\n",
    "            time.sleep(0.1)\n",
    "            return children\n",
    "        except:\n",
    "            return []"
   ]
  },
  {
   "cell_type": "code",
   "execution_count": 2,
   "id": "147a2558-75fc-40f7-9c26-24aa0a42f324",
   "metadata": {},
   "outputs": [],
   "source": [
    "cm = CellMapper()"
   ]
  },
  {
   "cell_type": "code",
   "execution_count": 3,
   "id": "04c1b6fe-5ef2-4d48-a77d-8ffe735fb506",
   "metadata": {
    "scrolled": true
   },
   "outputs": [],
   "source": [
    "# CL_0000255: eukaryotic cell\n",
    "broad_categories = sorted(cm.get_children('CL_0000255'))"
   ]
  },
  {
   "cell_type": "code",
   "execution_count": 4,
   "id": "e0e1b1af-9bd1-4330-8837-be367e1c1d55",
   "metadata": {
    "scrolled": true
   },
   "outputs": [],
   "source": [
    "broad_categories = broad_categories + ['T cell', 'B cell', 'neutrophil', 'monocyte', 'macrophage', 'plasma cell', 'natural killer cell', 'fibroblast', 'platelet', 'erythrocyte']"
   ]
  },
  {
   "cell_type": "code",
   "execution_count": 5,
   "id": "8be179ba-08ab-45c7-a2d0-f66fa4e12b31",
   "metadata": {
    "scrolled": true
   },
   "outputs": [],
   "source": [
    "def sum_across_tissues(tissue_to_ct_dict):\n",
    "    # Combine all of the dictionaries\n",
    "    total_dict = {}\n",
    "    for tissue in tissue_to_ct_dict:\n",
    "        total_dict = Counter(total_dict) + Counter(tissue_to_ct_dict[tissue])\n",
    "    return total_dict\n",
    "with open('cell_type_distributions/cell_type_distributions_08_15_2025_cleaned.json', 'r') as file:\n",
    "    tissue_to_cts = json.load(file)\n",
    "\n",
    "cell_types = list(sum_across_tissues(tissue_to_cts).keys())"
   ]
  },
  {
   "cell_type": "code",
   "execution_count": 9,
   "id": "9108c4b4-73c9-45be-a890-12842bdc28f5",
   "metadata": {
    "scrolled": true
   },
   "outputs": [
    {
     "data": {
      "text/plain": [
       "143"
      ]
     },
     "execution_count": 9,
     "metadata": {},
     "output_type": "execute_result"
    }
   ],
   "source": [
    "# Num cell types\n",
    "len(cell_types)"
   ]
  },
  {
   "cell_type": "code",
   "execution_count": 6,
   "id": "560dcf34-23e8-4066-8f89-cbe1a3e60401",
   "metadata": {
    "scrolled": true
   },
   "outputs": [
    {
     "name": "stderr",
     "output_type": "stream",
     "text": [
      "100%|█████████████████████████████████████████| 143/143 [03:46<00:00,  1.58s/it]\n"
     ]
    }
   ],
   "source": [
    "\"\"\"\n",
    "For every cell type\n",
    "    Keep track of a dictionary between cell type and all of its top level categorizations\n",
    "    Keep track of a dictionary between top level categorization and the number of appearances in the first dictionary\n",
    "For every cell type\n",
    "    Find top level categorization that has the highest cell count and assign it\n",
    "\"\"\"\n",
    "categorizations = {}\n",
    "count_categories = {}\n",
    "for cell_type in tqdm(cell_types):\n",
    "    cell_id = cm.find_cl_id(cell_type)\n",
    "    categories = list((set(cm.get_ancestors(cell_id)).union({cell_type})).intersection(set(broad_categories)))\n",
    "    categorizations[cell_type] = categories\n",
    "    \n",
    "    for category in categories:\n",
    "        count_categories[category] = count_categories.get(category, 0) + 1"
   ]
  },
  {
   "cell_type": "code",
   "execution_count": 7,
   "id": "a4dd77a6-e9ab-4d38-8bd3-98a16cd0fa7d",
   "metadata": {},
   "outputs": [],
   "source": [
    "\"\"\"\n",
    "hematopoietic stem cell -> stem cell\n",
    "hematopoietic precursor cell -> hematopoietic cell\n",
    "mucus secreting cell -> secretory cell \n",
    "mural cell -> perivascular cell \n",
    "\"\"\"\n",
    "# categorizations['hematopoietic stem cell'] = ['stem cell']\n",
    "categorizations['hematopoietic precursor cell'] = ['hematopoietic precursor cell']\n",
    "categorizations['common myeloid progenitor'] = ['hematopoietic precursor cell']\n",
    "categorizations['mucus secreting cell'] = ['secretory cell']\n",
    "categorizations['mural cell'] = ['perivascular cell']\n",
    "\n",
    "count_categories['hematopoietic precursor cell'] = 2\n",
    "count_categories['secretory cell'] = 1\n",
    "count_categories['perivascular cell'] = 1"
   ]
  },
  {
   "cell_type": "code",
   "execution_count": 17,
   "id": "2259e642-763c-47d2-9f96-2b6b25c41ecd",
   "metadata": {},
   "outputs": [
    {
     "name": "stderr",
     "output_type": "stream",
     "text": [
      "100%|█████████████████████████████████████| 143/143 [00:00<00:00, 733234.07it/s]\n"
     ]
    }
   ],
   "source": [
    "# top level catgorization\n",
    "ct_to_category_top = {}\n",
    "for cell_type in tqdm(categorizations):\n",
    "    counts = []\n",
    "    for category in categorizations[cell_type]:\n",
    "        counts.append(count_categories[category])\n",
    "    if 'stem cell' in categorizations[cell_type] or 'progenitor cell' in categorizations[cell_type]:\n",
    "        ct_to_category_top[cell_type] = 'progenitor/stem cell'\n",
    "    else:\n",
    "        ct_to_category_top[cell_type] = categorizations[cell_type][counts.index(max(counts))]"
   ]
  },
  {
   "cell_type": "code",
   "execution_count": 8,
   "id": "624f8f17-16ac-4cf3-ab5f-113e677616f2",
   "metadata": {},
   "outputs": [
    {
     "name": "stderr",
     "output_type": "stream",
     "text": [
      "100%|█████████████████████████████████████| 143/143 [00:00<00:00, 473764.20it/s]\n"
     ]
    }
   ],
   "source": [
    "# Fine-grained categorization\n",
    "ct_to_category = {}\n",
    "for cell_type in tqdm(categorizations):\n",
    "    counts = []\n",
    "    for category in categorizations[cell_type]:\n",
    "        counts.append(count_categories[category])\n",
    "    if 'monocyte' in categorizations[cell_type]:\n",
    "        ct_to_category[cell_type] = 'monocyte'\n",
    "    elif 'stem cell' in categorizations[cell_type] or 'progenitor cell' in categorizations[cell_type]:\n",
    "        ct_to_category[cell_type] = 'progenitor/stem cell'\n",
    "    \n",
    "    elif 'fibroblast' in categorizations[cell_type]:\n",
    "        ct_to_category[cell_type] = 'fibroblast'\n",
    "    elif 'connective tissue cell' in categorizations[cell_type]:\n",
    "        ct_to_category[cell_type] = 'other connective tissue cell'\n",
    "    \n",
    "    elif 'T cell' in categorizations[cell_type]:\n",
    "        ct_to_category[cell_type] = 'T cell'\n",
    "    elif 'B cell' in categorizations[cell_type]:\n",
    "        ct_to_category[cell_type] = 'B cell'\n",
    "    elif 'neutrophil' in categorizations[cell_type]:\n",
    "        ct_to_category[cell_type] = 'neutrophil'\n",
    "    elif 'macrophage' in categorizations[cell_type]:\n",
    "        ct_to_category[cell_type] = 'macrophage'\n",
    "    elif 'plasma cell' in categorizations[cell_type]:\n",
    "        ct_to_category[cell_type] = 'plasma cell'\n",
    "    elif 'natural killer cell' in categorizations[cell_type]:\n",
    "        ct_to_category[cell_type] = 'natural killer cell'\n",
    "    elif 'leukocyte' in categorizations[cell_type]:\n",
    "        ct_to_category[cell_type] = 'other leukocyte'\n",
    "    \n",
    "    elif 'platelet' in categorizations[cell_type]:\n",
    "        ct_to_category[cell_type] = 'platelet'\n",
    "    elif 'erythrocyte' in categorizations[cell_type]:\n",
    "        ct_to_category[cell_type] = 'erythrocyte'\n",
    "    \n",
    "    elif 'hematopoietic cell' in categorizations[cell_type]:\n",
    "        ct_to_category[cell_type] = 'other hematopoietic cell'\n",
    "    else:\n",
    "        ct_to_category[cell_type] = categorizations[cell_type][counts.index(max(counts))]"
   ]
  },
  {
   "cell_type": "code",
   "execution_count": 9,
   "id": "89336040-63b9-4203-aaa0-1de2bef901f1",
   "metadata": {},
   "outputs": [],
   "source": [
    "with open(\"cell_type_distributions/ct_categorized_ontology_08_16_2025.json\", \"w\") as json_file:\n",
    "    json.dump(ct_to_category, json_file, indent=4)"
   ]
  },
  {
   "cell_type": "code",
   "execution_count": null,
   "id": "ff27adac-60bb-406a-b9dc-d3b408666051",
   "metadata": {},
   "outputs": [],
   "source": [
    "with open(\"cell_type_distributions/ct_categorized_ontology_toplevel_08_15_2025.json\", \"w\") as json_file:\n",
    "    json.dump(ct_to_category_top, json_file, indent=4)"
   ]
  }
 ],
 "metadata": {
  "kernelspec": {
   "display_name": "Python 3 (ipykernel)",
   "language": "python",
   "name": "python3"
  },
  "language_info": {
   "codemirror_mode": {
    "name": "ipython",
    "version": 3
   },
   "file_extension": ".py",
   "mimetype": "text/x-python",
   "name": "python",
   "nbconvert_exporter": "python",
   "pygments_lexer": "ipython3",
   "version": "3.12.11"
  }
 },
 "nbformat": 4,
 "nbformat_minor": 5
}
