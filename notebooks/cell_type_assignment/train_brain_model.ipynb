{
 "cells": [
  {
   "cell_type": "code",
   "execution_count": null,
   "id": "f63db9d8-846d-4817-bb87-5cb93ea302f0",
   "metadata": {},
   "outputs": [],
   "source": [
    "'''\n",
    "Train STATE Model for Brain Cell Atlas\n",
    "'''"
   ]
  },
  {
   "cell_type": "code",
   "execution_count": 4,
   "id": "674d4038-87cc-49e7-aeb3-e1f2826d0a89",
   "metadata": {},
   "outputs": [],
   "source": [
    "# Imports \n",
    "import importlib\n",
    "\n",
    "import json\n",
    "import logging\n",
    "import os\n",
    "import re\n",
    "\n",
    "import pandas as pd\n",
    "import numpy as np\n",
    "import anndata as ad\n",
    "\n",
    "from sklearn.pipeline import Pipeline\n",
    "from sklearn.preprocessing import StandardScaler\n",
    "from sklearn.linear_model import LogisticRegression\n",
    "\n",
    "import matplotlib.pyplot as plt\n",
    "import seaborn as sns\n",
    "import scanpy as sc\n",
    "\n",
    "from scipy import sparse\n",
    "from joblib import dump, load\n",
    "\n",
    "import subprocess\n",
    "from tqdm import tqdm\n",
    "\n",
    "import psutil\n",
    "import pyarrow as pa\n",
    "import pyarrow.parquet as pq\n",
    "import random\n",
    "\n",
    "tqdm.pandas()"
   ]
  },
  {
   "cell_type": "code",
   "execution_count": 1,
   "id": "719743a1-73d1-468f-84dc-be9f86598bae",
   "metadata": {},
   "outputs": [],
   "source": [
    "BRAIN_PATH = \"/large_storage/ctc/ML/brain_cell_atlas\""
   ]
  },
  {
   "cell_type": "code",
   "execution_count": 4,
   "id": "f6a8d494-707b-4b1d-953c-ee6078e7c307",
   "metadata": {},
   "outputs": [
    {
     "name": "stderr",
     "output_type": "stream",
     "text": [
      "100%|█████████████████████████████████████████| 443/443 [04:26<00:00,  1.66it/s]\n"
     ]
    }
   ],
   "source": [
    "adatas = []\n",
    "brain_adata_files = os.listdir(BRAIN_PATH)\n",
    "for file in tqdm(brain_adata_files):\n",
    "    adata = sc.read_h5ad(BRAIN_PATH + '/' + file)\n",
    "    adata = adata[(~adata.obs['cell_type'].isnull()) \n",
    "        & (adata.obs['cell_type'] != 'nan') \n",
    "        & (adata.obs['cell_type'] != 'other')].copy()\n",
    "    adatas.append(adata)"
   ]
  },
  {
   "cell_type": "code",
   "execution_count": 9,
   "id": "8273ad3d-12d3-4a17-acfb-c0b2d35a20e9",
   "metadata": {},
   "outputs": [
    {
     "data": {
      "text/plain": [
       "cell_type\n",
       "neuron                                    1202604\n",
       "oligodendrocyte                            238107\n",
       "astrocyte                                   83385\n",
       "oligodendrocyte precursor cell              63844\n",
       "central nervous system macrophage           48195\n",
       "Bergmann glial cell                          6331\n",
       "choroid plexus epithelial cell               5003\n",
       "fibroblast                                   4050\n",
       "endothelial cell                             3021\n",
       "ependymal cell                               2539\n",
       "leukocyte                                    1914\n",
       "pericyte                                     1859\n",
       "vascular associated smooth muscle cell        349\n",
       "Name: count, dtype: int64"
      ]
     },
     "execution_count": 9,
     "metadata": {},
     "output_type": "execute_result"
    }
   ],
   "source": [
    "total_adata.obs['cell_type'].value_counts()"
   ]
  },
  {
   "cell_type": "code",
   "execution_count": null,
   "id": "c441fb4d-a459-4d79-92c1-b9518a27458f",
   "metadata": {},
   "outputs": [],
   "source": [
    "total_adata = sc.concat(adatas)\n",
    "total_adata.write(output_adata_dir + f'/TSP_brain.h5ad')"
   ]
  },
  {
   "cell_type": "code",
   "execution_count": 6,
   "id": "85adc9d5-cbf4-4e54-a65b-ed3d543d8d2c",
   "metadata": {},
   "outputs": [],
   "source": [
    "total_adata = sc.read_h5ad('output/adatas_embedded/TSP_brain.h5ad')"
   ]
  },
  {
   "cell_type": "code",
   "execution_count": null,
   "id": "fb19e771-89c5-4425-9b7c-b7c0dcce266a",
   "metadata": {
    "scrolled": true
   },
   "outputs": [],
   "source": [
    "# Train the logistic regression classifier\n",
    "output_model_dir = \"output/classifiers\"\n",
    "pipeline = Pipeline([\n",
    "    (\"scaler\", StandardScaler()),\n",
    "    (\"logreg\", LogisticRegression(max_iter=1000, verbose=1)),\n",
    "])\n",
    "embeddings, labels = total_adata.obsm[\"X_state\"], total_adata.obs[\"cell_type\"]\n",
    "pipeline.fit(embeddings, labels)\n",
    "\n",
    "# Save pipeline\n",
    "dump(pipeline, output_model_dir + f'/brain_ref_model_logreg.joblib')\n",
    "print(f\"Successfully saved model to {output_model_dir}\")"
   ]
  },
  {
   "cell_type": "code",
   "execution_count": null,
   "id": "d5144a21-e25b-4938-9a96-f80f51cf1715",
   "metadata": {},
   "outputs": [],
   "source": []
  }
 ],
 "metadata": {
  "kernelspec": {
   "display_name": "Python 3 (ipykernel)",
   "language": "python",
   "name": "python3"
  },
  "language_info": {
   "codemirror_mode": {
    "name": "ipython",
    "version": 3
   },
   "file_extension": ".py",
   "mimetype": "text/x-python",
   "name": "python",
   "nbconvert_exporter": "python",
   "pygments_lexer": "ipython3",
   "version": "3.12.11"
  }
 },
 "nbformat": 4,
 "nbformat_minor": 5
}
