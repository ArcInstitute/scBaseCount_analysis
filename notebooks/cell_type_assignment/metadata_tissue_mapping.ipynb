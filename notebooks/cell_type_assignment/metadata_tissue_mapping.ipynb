{
 "cells": [
  {
   "cell_type": "code",
   "execution_count": null,
   "id": "afaa7789-3b95-4393-96af-8d7ba44c1243",
   "metadata": {},
   "outputs": [],
   "source": [
    "'''\n",
    "Metadata annotation\n",
    "'''"
   ]
  },
  {
   "cell_type": "code",
   "execution_count": 1,
   "id": "7093de77-d173-45b4-97b5-557ec9297851",
   "metadata": {},
   "outputs": [],
   "source": [
    "import pandas as pd\n",
    "import scanpy as sc\n",
    "import os\n",
    "import re\n",
    "import numpy as np"
   ]
  },
  {
   "cell_type": "code",
   "execution_count": 2,
   "id": "8bf94bb7-a04b-42b4-8256-855fb7221604",
   "metadata": {},
   "outputs": [],
   "source": [
    "CZI_FILE_PATH = '/processed_datasets/scRecount/cellxgene/complete_collections/GeneFull/annotated'\n",
    "TSP_FILE_PATH = '/large_storage/ctc/public/scBasecamp/tabula_sapiens/GeneFull_Ex50pAS'"
   ]
  },
  {
   "cell_type": "code",
   "execution_count": 3,
   "id": "7c112897-9b40-4fac-9f52-fb7a420ef716",
   "metadata": {},
   "outputs": [],
   "source": [
    "# Metadata reading\n",
    "metadata = pd.read_parquet('/large_storage/ctc/public/scBasecamp/SRA_Agent_metadata.parquet')"
   ]
  },
  {
   "cell_type": "code",
   "execution_count": 5,
   "id": "d4871b9b-1607-4d9d-ad44-c041b58b13a7",
   "metadata": {},
   "outputs": [],
   "source": [
    "# Get tissue categories\n",
    "tissue_categories = pd.read_csv('2025-06-30_tissue_categories.csv.gz', compression='gzip')"
   ]
  },
  {
   "cell_type": "code",
   "execution_count": 22,
   "id": "26808eb6-9f5d-41a4-a9d8-966577ae12ff",
   "metadata": {},
   "outputs": [],
   "source": [
    "# Map them\n",
    "mapping = dict(zip(tissue_categories['tissue'], tissue_categories['category'])) \n",
    "metadata['tissue_mapped'] = metadata['tissue'].map(mapping)"
   ]
  },
  {
   "cell_type": "code",
   "execution_count": 26,
   "id": "edab13e8-1571-455f-9f79-e39b5b0b658e",
   "metadata": {},
   "outputs": [],
   "source": [
    "tissue_map = {\n",
    "  \"brain\": \"brain\",\n",
    "  \"bone marrow\": \"bonemarrow\",\n",
    "  \"heart\": \"heart\",\n",
    "  \"spleen\": \"spleen\",\n",
    "  \"central nervous system\": \"brain\",\n",
    "  \"other\": \"other\",\n",
    "  \"embryo\": \"other\",\n",
    "  \"head\": \"other\",\n",
    "  \"blood\": \"blood\",\n",
    "  \"lymph node\": \"lymphnode\",\n",
    "  \"musculature\": \"muscle\",\n",
    "  \"spinal cord\": \"brain\",\n",
    "  \"colon\": \"li\",\n",
    "  \"lamina propria\": \"si\",\n",
    "  \"vasculature\": \"vasculature\",\n",
    "  \"pancreas\": \"pancreas\",\n",
    "  \"lung\": \"lung\",\n",
    "  \"kidney\": \"other\",\n",
    "  \"small intestine\": \"si\",\n",
    "  \"breast\": \"mammary\",\n",
    "  \"prostate gland\": \"prostate\",\n",
    "  \"peripheral nervous system\": \"brain\",\n",
    "  \"skin of body\": \"skin\",\n",
    "  \"uterus\": \"endometrium\",\n",
    "  \"adipose tissue\": \"fat\",\n",
    "  \"immune system\": \"thymus\",\n",
    "  \"placenta\": \"other\",\n",
    "  \"liver\": \"liver\",\n",
    "  \"urinary bladder\": \"bladder\",\n",
    "  \"bladder organ\": \"bladder\",\n",
    "  \"ovary\": \"other\",\n",
    "  \"respiratory system\": \"lung\",\n",
    "  \"skeletal system\": \"muscle\",\n",
    "  \"stomach\": \"other\",\n",
    "  \"testis\": \"other\",\n",
    "  \"reproductive system\": \"other\",\n",
    "  \"eye\": \"eye\",\n",
    "  \"sensory system\": \"eye\",\n",
    "  \"ureter\": \"bladder\",\n",
    "  \"nose\": \"trachea\",\n",
    "  \"cortex\": \"brain\",\n",
    "  \"leaf\": \"other\",\n",
    "  \"abdomen\": \"other\",\n",
    "  \"intestine\": \"si\",\n",
    "  \"esophagus\": \"other\",\n",
    "  \"forelimb\": \"muscle\",\n",
    "  \"hindlimb\": \"muscle\",\n",
    "  \"exocrine gland\": \"salivarygland\",\n",
    "  \"fallopian tube\": \"endometrium\",\n",
    "  \"shoot apex\": \"other\",\n",
    "  \"endocrine gland\": \"pancreas\",\n",
    "  \"gallbladder\": \"other\",\n",
    "  \"nan\": \"other\",\n",
    "  \"adrenal gland\": \"other\",\n",
    "  \"tendon of semitendinosus\": \"muscle\",\n",
    "  \"flower\": \"other\",\n",
    "  \"large intestine\": \"li\",\n",
    "  \"digestive system\": \"si\",\n",
    "  \"mucosa\": \"si\",\n",
    "  \"root\": \"other\",\n",
    "  \"protoplast\": \"other\",\n",
    "  \"yolk sac\": \"other\",\n",
    "  \"pleural fluid\": \"lung\",\n",
    "  \"tongue\": \"tongue\",\n",
    "  \"pleura\": \"lung\",\n",
    "  \"omentum\": \"fat\",\n",
    "  \"paracolic gutter\": \"other\",\n",
    "  \"milk\": \"mammary\",\n",
    "  \"seedling\": \"other\",\n",
    "  \"seed\": \"other\",\n",
    "  \"scalp\": \"skin\",\n",
    "  \"chest wall\": \"muscle\",\n",
    "  \"neck\": \"muscle\",\n",
    "  \"esophagogastric junction\": \"other\",\n",
    "  np.nan: 'other'\n",
    "}"
   ]
  },
  {
   "cell_type": "code",
   "execution_count": 25,
   "id": "9ecdc324-bfee-42b8-9f18-de598b6b281b",
   "metadata": {},
   "outputs": [],
   "source": [
    "metadata['tissue_tsp'] = metadata['tissue_mapped'].map(tissue_map)"
   ]
  },
  {
   "cell_type": "code",
   "execution_count": 38,
   "id": "49d1cc63-0413-4e8c-bb32-e21d85f5bbf6",
   "metadata": {},
   "outputs": [],
   "source": [
    "metadata.to_parquet('/large_storage/ctc/public/scBasecamp/metadata_tsp_annotated_2.parquet')"
   ]
  }
 ],
 "metadata": {
  "kernelspec": {
   "display_name": "Python 3 (ipykernel)",
   "language": "python",
   "name": "python3"
  },
  "language_info": {
   "codemirror_mode": {
    "name": "ipython",
    "version": 3
   },
   "file_extension": ".py",
   "mimetype": "text/x-python",
   "name": "python",
   "nbconvert_exporter": "python",
   "pygments_lexer": "ipython3",
   "version": "3.12.11"
  }
 },
 "nbformat": 4,
 "nbformat_minor": 5
}
