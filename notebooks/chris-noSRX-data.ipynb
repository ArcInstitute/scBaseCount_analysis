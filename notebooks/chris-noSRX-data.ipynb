{
 "cells": [
  {
   "cell_type": "markdown",
   "metadata": {},
   "source": [
    "# Goals\n",
    "\n",
    "* Add Chris' datasets, which lack SRA experiment accession numbers\n",
    "* Datasets lacking an SRA experiment accession:\n",
    "  * `/processed_datasets/scRecount/cellxgene/`\n",
    "    * `marmoset_brain_cell_atlas`, `AIDB`, `brain_cell_atlas`, `neocortex_atlas`\n"
   ]
  },
  {
   "cell_type": "code",
   "execution_count": 2,
   "metadata": {},
   "outputs": [],
   "source": [
    "import os\n",
    "from pathlib import Path\n",
    "import pandas as pd\n",
    "import plotnine as pn\n",
    "from pypika import Query, Table, functions as fn\n",
    "\n",
    "from SRAgent.db.connect import db_connect"
   ]
  },
  {
   "cell_type": "code",
   "execution_count": 3,
   "metadata": {},
   "outputs": [],
   "source": [
    "pd.set_option('display.max_columns', None)\n",
    "pd.set_option('display.max_rows', 4)\n",
    "pn.theme_set(pn.theme_bw())\n",
    "os.environ[\"DYNACONF\"] = \"prod\""
   ]
  },
  {
   "cell_type": "code",
   "execution_count": 4,
   "metadata": {},
   "outputs": [
    {
     "data": {
      "text/plain": [
       "PosixPath('/home/nickyoungblut/dev/python/scBaseCount_analysis')"
      ]
     },
     "execution_count": 4,
     "metadata": {},
     "output_type": "execute_result"
    }
   ],
   "source": [
    "# get base of github repo\n",
    "base_dir = !git rev-parse --show-toplevel\n",
    "base_dir = Path(base_dir[0])\n",
    "base_dir"
   ]
  },
  {
   "cell_type": "code",
   "execution_count": 5,
   "metadata": {},
   "outputs": [
    {
     "data": {
      "text/plain": [
       "True"
      ]
     },
     "execution_count": 5,
     "metadata": {},
     "output_type": "execute_result"
    }
   ],
   "source": [
    "data_base_dir = Path('/processed_datasets/scRecount/cellxgene')\n",
    "data_base_dir.exists()"
   ]
  },
  {
   "cell_type": "markdown",
   "metadata": {},
   "source": [
    "# AIDB"
   ]
  },
  {
   "cell_type": "code",
   "execution_count": 6,
   "metadata": {},
   "outputs": [
    {
     "data": {
      "text/plain": [
       "True"
      ]
     },
     "execution_count": 6,
     "metadata": {},
     "output_type": "execute_result"
    }
   ],
   "source": [
    "aidb_data_dir = data_base_dir / \"AIDB\"\n",
    "aidb_data_dir.exists()"
   ]
  },
  {
   "cell_type": "code",
   "execution_count": 10,
   "metadata": {},
   "outputs": [
    {
     "data": {
      "text/html": [
       "<div>\n",
       "<style scoped>\n",
       "    .dataframe tbody tr th:only-of-type {\n",
       "        vertical-align: middle;\n",
       "    }\n",
       "\n",
       "    .dataframe tbody tr th {\n",
       "        vertical-align: top;\n",
       "    }\n",
       "\n",
       "    .dataframe thead th {\n",
       "        text-align: right;\n",
       "    }\n",
       "</style>\n",
       "<table border=\"1\" class=\"dataframe\">\n",
       "  <thead>\n",
       "    <tr style=\"text-align: right;\">\n",
       "      <th></th>\n",
       "      <th>sample_name</th>\n",
       "      <th>feature</th>\n",
       "      <th>processing</th>\n",
       "      <th>path</th>\n",
       "    </tr>\n",
       "  </thead>\n",
       "  <tbody>\n",
       "    <tr>\n",
       "      <th>0</th>\n",
       "      <td>KR_SGI_B012_H159</td>\n",
       "      <td>GeneFull</td>\n",
       "      <td>filtered</td>\n",
       "      <td>/processed_datasets/scRecount/cellxgene/AIDB/K...</td>\n",
       "    </tr>\n",
       "    <tr>\n",
       "      <th>1</th>\n",
       "      <td>KR_SGI_B012_H159</td>\n",
       "      <td>GeneFull</td>\n",
       "      <td>raw</td>\n",
       "      <td>/processed_datasets/scRecount/cellxgene/AIDB/K...</td>\n",
       "    </tr>\n",
       "    <tr>\n",
       "      <th>...</th>\n",
       "      <td>...</td>\n",
       "      <td>...</td>\n",
       "      <td>...</td>\n",
       "      <td>...</td>\n",
       "    </tr>\n",
       "    <tr>\n",
       "      <th>3006</th>\n",
       "      <td>012_L002_5GE8099</td>\n",
       "      <td>GeneFull</td>\n",
       "      <td>filtered</td>\n",
       "      <td>/processed_datasets/scRecount/cellxgene/AIDB/0...</td>\n",
       "    </tr>\n",
       "    <tr>\n",
       "      <th>3007</th>\n",
       "      <td>012_L002_5GE8099</td>\n",
       "      <td>GeneFull</td>\n",
       "      <td>raw</td>\n",
       "      <td>/processed_datasets/scRecount/cellxgene/AIDB/0...</td>\n",
       "    </tr>\n",
       "  </tbody>\n",
       "</table>\n",
       "<p>3008 rows × 4 columns</p>\n",
       "</div>"
      ],
      "text/plain": [
       "           sample_name   feature processing  \\\n",
       "0     KR_SGI_B012_H159  GeneFull   filtered   \n",
       "1     KR_SGI_B012_H159  GeneFull        raw   \n",
       "...                ...       ...        ...   \n",
       "3006  012_L002_5GE8099  GeneFull   filtered   \n",
       "3007  012_L002_5GE8099  GeneFull        raw   \n",
       "\n",
       "                                                   path  \n",
       "0     /processed_datasets/scRecount/cellxgene/AIDB/K...  \n",
       "1     /processed_datasets/scRecount/cellxgene/AIDB/K...  \n",
       "...                                                 ...  \n",
       "3006  /processed_datasets/scRecount/cellxgene/AIDB/0...  \n",
       "3007  /processed_datasets/scRecount/cellxgene/AIDB/0...  \n",
       "\n",
       "[3008 rows x 4 columns]"
      ]
     },
     "execution_count": 10,
     "metadata": {},
     "output_type": "execute_result"
    }
   ],
   "source": [
    "# find all matrix files\n",
    "matrix_info = []\n",
    "for f in aidb_data_dir.rglob(\"matrix.mtx.gz\"):\n",
    "    sample_name = f.parts[5]\n",
    "    feature = f.parts[7]\n",
    "    processing = f.parent.name\n",
    "    matrix_info.append([sample_name, feature, processing, f])\n",
    "\n",
    "matrix_info = pd.DataFrame(matrix_info, columns=[\"sample_name\", \"feature\", \"processing\", \"path\"])\n",
    "matrix_info"
   ]
  },
  {
   "cell_type": "code",
   "execution_count": 27,
   "metadata": {},
   "outputs": [
    {
     "data": {
      "text/html": [
       "<div>\n",
       "<style scoped>\n",
       "    .dataframe tbody tr th:only-of-type {\n",
       "        vertical-align: middle;\n",
       "    }\n",
       "\n",
       "    .dataframe tbody tr th {\n",
       "        vertical-align: top;\n",
       "    }\n",
       "\n",
       "    .dataframe thead th {\n",
       "        text-align: right;\n",
       "    }\n",
       "</style>\n",
       "<table border=\"1\" class=\"dataframe\">\n",
       "  <thead>\n",
       "    <tr style=\"text-align: right;\">\n",
       "      <th></th>\n",
       "      <th>sample_name</th>\n",
       "      <th>feature</th>\n",
       "      <th>path</th>\n",
       "    </tr>\n",
       "  </thead>\n",
       "  <tbody>\n",
       "    <tr>\n",
       "      <th>0</th>\n",
       "      <td>KR_SGI_B012_H159</td>\n",
       "      <td>Velocyto</td>\n",
       "      <td>/processed_datasets/scRecount/cellxgene/AIDB/KR_SGI_B012_H159/Solo.out/Velocyto/Summary.csv</td>\n",
       "    </tr>\n",
       "    <tr>\n",
       "      <th>1</th>\n",
       "      <td>KR_SGI_B012_H159</td>\n",
       "      <td>GeneFull</td>\n",
       "      <td>/processed_datasets/scRecount/cellxgene/AIDB/KR_SGI_B012_H159/Solo.out/GeneFull/Summary.csv</td>\n",
       "    </tr>\n",
       "    <tr>\n",
       "      <th>...</th>\n",
       "      <td>...</td>\n",
       "      <td>...</td>\n",
       "      <td>...</td>\n",
       "    </tr>\n",
       "    <tr>\n",
       "      <th>1877</th>\n",
       "      <td>012_L002_5GE8099</td>\n",
       "      <td>GeneFull_ExonOverIntron</td>\n",
       "      <td>/processed_datasets/scRecount/cellxgene/AIDB/012_L002_5GE8099/Solo.out/GeneFull_ExonOverIntron/Summary.csv</td>\n",
       "    </tr>\n",
       "    <tr>\n",
       "      <th>1878</th>\n",
       "      <td>012_L002_5GE8099</td>\n",
       "      <td>GeneFull</td>\n",
       "      <td>/processed_datasets/scRecount/cellxgene/AIDB/012_L002_5GE8099/Solo.out/GeneFull/Summary.csv</td>\n",
       "    </tr>\n",
       "  </tbody>\n",
       "</table>\n",
       "<p>1879 rows × 3 columns</p>\n",
       "</div>"
      ],
      "text/plain": [
       "           sample_name                  feature  \\\n",
       "0     KR_SGI_B012_H159                 Velocyto   \n",
       "1     KR_SGI_B012_H159                 GeneFull   \n",
       "...                ...                      ...   \n",
       "1877  012_L002_5GE8099  GeneFull_ExonOverIntron   \n",
       "1878  012_L002_5GE8099                 GeneFull   \n",
       "\n",
       "                                                                                                            path  \n",
       "0                    /processed_datasets/scRecount/cellxgene/AIDB/KR_SGI_B012_H159/Solo.out/Velocyto/Summary.csv  \n",
       "1                    /processed_datasets/scRecount/cellxgene/AIDB/KR_SGI_B012_H159/Solo.out/GeneFull/Summary.csv  \n",
       "...                                                                                                          ...  \n",
       "1877  /processed_datasets/scRecount/cellxgene/AIDB/012_L002_5GE8099/Solo.out/GeneFull_ExonOverIntron/Summary.csv  \n",
       "1878                 /processed_datasets/scRecount/cellxgene/AIDB/012_L002_5GE8099/Solo.out/GeneFull/Summary.csv  \n",
       "\n",
       "[1879 rows x 3 columns]"
      ]
     },
     "execution_count": 27,
     "metadata": {},
     "output_type": "execute_result"
    }
   ],
   "source": [
    "# find all summary files\n",
    "sum_info = []\n",
    "for f in aidb_data_dir.rglob(\"Summary.csv\"):\n",
    "    feature = f.parent.stem\n",
    "    sample_name = f.parts[-4]\n",
    "    sum_info.append([sample_name, feature, f])\n",
    "\n",
    "sum_info = pd.DataFrame(sum_info, columns=[\"sample_name\", \"feature\", \"path\"])\n",
    "sum_info"
   ]
  },
  {
   "cell_type": "code",
   "execution_count": 28,
   "metadata": {},
   "outputs": [
    {
     "data": {
      "text/html": [
       "<div>\n",
       "<style scoped>\n",
       "    .dataframe tbody tr th:only-of-type {\n",
       "        vertical-align: middle;\n",
       "    }\n",
       "\n",
       "    .dataframe tbody tr th {\n",
       "        vertical-align: top;\n",
       "    }\n",
       "\n",
       "    .dataframe thead th {\n",
       "        text-align: right;\n",
       "    }\n",
       "</style>\n",
       "<table border=\"1\" class=\"dataframe\">\n",
       "  <thead>\n",
       "    <tr style=\"text-align: right;\">\n",
       "      <th></th>\n",
       "      <th>sample_name</th>\n",
       "      <th>feature</th>\n",
       "      <th>path</th>\n",
       "    </tr>\n",
       "  </thead>\n",
       "  <tbody>\n",
       "    <tr>\n",
       "      <th>0</th>\n",
       "      <td>KR_SGI_B012_H159</td>\n",
       "      <td>Velocyto</td>\n",
       "      <td>/processed_datasets/scRecount/cellxgene/AIDB/KR_SGI_B012_H159/Solo.out/Velocyto/Summary.csv</td>\n",
       "    </tr>\n",
       "    <tr>\n",
       "      <th>1</th>\n",
       "      <td>KR_SGI_B012_H159</td>\n",
       "      <td>GeneFull</td>\n",
       "      <td>/processed_datasets/scRecount/cellxgene/AIDB/KR_SGI_B012_H159/Solo.out/GeneFull/Summary.csv</td>\n",
       "    </tr>\n",
       "    <tr>\n",
       "      <th>...</th>\n",
       "      <td>...</td>\n",
       "      <td>...</td>\n",
       "      <td>...</td>\n",
       "    </tr>\n",
       "    <tr>\n",
       "      <th>1877</th>\n",
       "      <td>012_L002_5GE8099</td>\n",
       "      <td>GeneFull_ExonOverIntron</td>\n",
       "      <td>/processed_datasets/scRecount/cellxgene/AIDB/012_L002_5GE8099/Solo.out/GeneFull_ExonOverIntron/Summary.csv</td>\n",
       "    </tr>\n",
       "    <tr>\n",
       "      <th>1878</th>\n",
       "      <td>012_L002_5GE8099</td>\n",
       "      <td>GeneFull</td>\n",
       "      <td>/processed_datasets/scRecount/cellxgene/AIDB/012_L002_5GE8099/Solo.out/GeneFull/Summary.csv</td>\n",
       "    </tr>\n",
       "  </tbody>\n",
       "</table>\n",
       "<p>1879 rows × 3 columns</p>\n",
       "</div>"
      ],
      "text/plain": [
       "           sample_name                  feature  \\\n",
       "0     KR_SGI_B012_H159                 Velocyto   \n",
       "1     KR_SGI_B012_H159                 GeneFull   \n",
       "...                ...                      ...   \n",
       "1877  012_L002_5GE8099  GeneFull_ExonOverIntron   \n",
       "1878  012_L002_5GE8099                 GeneFull   \n",
       "\n",
       "                                                                                                            path  \n",
       "0                    /processed_datasets/scRecount/cellxgene/AIDB/KR_SGI_B012_H159/Solo.out/Velocyto/Summary.csv  \n",
       "1                    /processed_datasets/scRecount/cellxgene/AIDB/KR_SGI_B012_H159/Solo.out/GeneFull/Summary.csv  \n",
       "...                                                                                                          ...  \n",
       "1877  /processed_datasets/scRecount/cellxgene/AIDB/012_L002_5GE8099/Solo.out/GeneFull_ExonOverIntron/Summary.csv  \n",
       "1878                 /processed_datasets/scRecount/cellxgene/AIDB/012_L002_5GE8099/Solo.out/GeneFull/Summary.csv  \n",
       "\n",
       "[1879 rows x 3 columns]"
      ]
     },
     "execution_count": 28,
     "metadata": {},
     "output_type": "execute_result"
    }
   ],
   "source": [
    "# filter sum_info to just those with filtered matrix\n",
    "sum_info_f = sum_info[sum_info[\"sample_name\"].isin(matrix_info[\"sample_name\"])]\n",
    "sum_info_f"
   ]
  },
  {
   "cell_type": "code",
   "execution_count": 29,
   "metadata": {},
   "outputs": [
    {
     "data": {
      "text/plain": [
       "376"
      ]
     },
     "execution_count": 29,
     "metadata": {},
     "output_type": "execute_result"
    }
   ],
   "source": [
    "# number of unique sample_names\n",
    "sum_info_f[\"sample_name\"].nunique()"
   ]
  },
  {
   "cell_type": "code",
   "execution_count": 30,
   "metadata": {},
   "outputs": [
    {
     "data": {
      "text/html": [
       "<div>\n",
       "<style scoped>\n",
       "    .dataframe tbody tr th:only-of-type {\n",
       "        vertical-align: middle;\n",
       "    }\n",
       "\n",
       "    .dataframe tbody tr th {\n",
       "        vertical-align: top;\n",
       "    }\n",
       "\n",
       "    .dataframe thead th {\n",
       "        text-align: right;\n",
       "    }\n",
       "</style>\n",
       "<table border=\"1\" class=\"dataframe\">\n",
       "  <thead>\n",
       "    <tr style=\"text-align: right;\">\n",
       "      <th></th>\n",
       "      <th>sample_name</th>\n",
       "      <th>feature</th>\n",
       "      <th>path</th>\n",
       "    </tr>\n",
       "  </thead>\n",
       "  <tbody>\n",
       "  </tbody>\n",
       "</table>\n",
       "</div>"
      ],
      "text/plain": [
       "Empty DataFrame\n",
       "Columns: [sample_name, feature, path]\n",
       "Index: []"
      ]
     },
     "execution_count": 30,
     "metadata": {},
     "output_type": "execute_result"
    }
   ],
   "source": [
    "# find duplicates\n",
    "x = sum_info_f[sum_info_f[\"feature\"] == \"GeneFull_Ex50pAS\"]\n",
    "df_dup = x[x[\"sample_name\"].duplicated()].sort_values(\"sample_name\")\n",
    "\n",
    "pd.options.display.max_rows = 100\n",
    "pd.options.display.max_colwidth = None\n",
    "df_dup"
   ]
  },
  {
   "cell_type": "code",
   "execution_count": 31,
   "metadata": {},
   "outputs": [],
   "source": [
    "# reset display\n",
    "pd.options.display.max_rows = 4"
   ]
  },
  {
   "cell_type": "markdown",
   "metadata": {},
   "source": [
    "# Create ARC accessions"
   ]
  },
  {
   "cell_type": "code",
   "execution_count": 32,
   "metadata": {},
   "outputs": [
    {
     "data": {
      "text/html": [
       "<div>\n",
       "<style scoped>\n",
       "    .dataframe tbody tr th:only-of-type {\n",
       "        vertical-align: middle;\n",
       "    }\n",
       "\n",
       "    .dataframe tbody tr th {\n",
       "        vertical-align: top;\n",
       "    }\n",
       "\n",
       "    .dataframe thead th {\n",
       "        text-align: right;\n",
       "    }\n",
       "</style>\n",
       "<table border=\"1\" class=\"dataframe\">\n",
       "  <thead>\n",
       "    <tr style=\"text-align: right;\">\n",
       "      <th></th>\n",
       "      <th>sample_name</th>\n",
       "      <th>feature</th>\n",
       "      <th>path</th>\n",
       "      <th>accession</th>\n",
       "    </tr>\n",
       "  </thead>\n",
       "  <tbody>\n",
       "    <tr>\n",
       "      <th>0</th>\n",
       "      <td>KR_SGI_B012_H159</td>\n",
       "      <td>Velocyto</td>\n",
       "      <td>/processed_datasets/scRecount/cellxgene/AIDB/KR_SGI_B012_H159/Solo.out/Velocyto/Summary.csv</td>\n",
       "      <td>ARC0000001</td>\n",
       "    </tr>\n",
       "    <tr>\n",
       "      <th>1</th>\n",
       "      <td>KR_SGI_B012_H159</td>\n",
       "      <td>GeneFull</td>\n",
       "      <td>/processed_datasets/scRecount/cellxgene/AIDB/KR_SGI_B012_H159/Solo.out/GeneFull/Summary.csv</td>\n",
       "      <td>ARC0000001</td>\n",
       "    </tr>\n",
       "    <tr>\n",
       "      <th>...</th>\n",
       "      <td>...</td>\n",
       "      <td>...</td>\n",
       "      <td>...</td>\n",
       "      <td>...</td>\n",
       "    </tr>\n",
       "    <tr>\n",
       "      <th>1877</th>\n",
       "      <td>012_L002_5GE8099</td>\n",
       "      <td>GeneFull_ExonOverIntron</td>\n",
       "      <td>/processed_datasets/scRecount/cellxgene/AIDB/012_L002_5GE8099/Solo.out/GeneFull_ExonOverIntron/Summary.csv</td>\n",
       "      <td>ARC0000376</td>\n",
       "    </tr>\n",
       "    <tr>\n",
       "      <th>1878</th>\n",
       "      <td>012_L002_5GE8099</td>\n",
       "      <td>GeneFull</td>\n",
       "      <td>/processed_datasets/scRecount/cellxgene/AIDB/012_L002_5GE8099/Solo.out/GeneFull/Summary.csv</td>\n",
       "      <td>ARC0000376</td>\n",
       "    </tr>\n",
       "  </tbody>\n",
       "</table>\n",
       "<p>1879 rows × 4 columns</p>\n",
       "</div>"
      ],
      "text/plain": [
       "           sample_name                  feature  \\\n",
       "0     KR_SGI_B012_H159                 Velocyto   \n",
       "1     KR_SGI_B012_H159                 GeneFull   \n",
       "...                ...                      ...   \n",
       "1877  012_L002_5GE8099  GeneFull_ExonOverIntron   \n",
       "1878  012_L002_5GE8099                 GeneFull   \n",
       "\n",
       "                                                                                                            path  \\\n",
       "0                    /processed_datasets/scRecount/cellxgene/AIDB/KR_SGI_B012_H159/Solo.out/Velocyto/Summary.csv   \n",
       "1                    /processed_datasets/scRecount/cellxgene/AIDB/KR_SGI_B012_H159/Solo.out/GeneFull/Summary.csv   \n",
       "...                                                                                                          ...   \n",
       "1877  /processed_datasets/scRecount/cellxgene/AIDB/012_L002_5GE8099/Solo.out/GeneFull_ExonOverIntron/Summary.csv   \n",
       "1878                 /processed_datasets/scRecount/cellxgene/AIDB/012_L002_5GE8099/Solo.out/GeneFull/Summary.csv   \n",
       "\n",
       "       accession  \n",
       "0     ARC0000001  \n",
       "1     ARC0000001  \n",
       "...          ...  \n",
       "1877  ARC0000376  \n",
       "1878  ARC0000376  \n",
       "\n",
       "[1879 rows x 4 columns]"
      ]
     },
     "execution_count": 32,
     "metadata": {},
     "output_type": "execute_result"
    }
   ],
   "source": [
    "# for each sample_name, create an \"ARC\" accession (e.g., \"ARC0000001\")\n",
    "unique_sample_names = sum_info_f[\"sample_name\"].unique()\n",
    "df = pd.DataFrame(unique_sample_names, columns=[\"sample_name\"])\n",
    "accessions = []\n",
    "for i, row in df.iterrows():\n",
    "    i += 1\n",
    "    accessions.append(f\"ARC{i:07d}\")\n",
    "df[\"accession\"] = accessions\n",
    "\n",
    "sum_info_f = sum_info_f.merge(df, on=\"sample_name\", how=\"left\")\n",
    "sum_info_f"
   ]
  },
  {
   "cell_type": "code",
   "execution_count": 33,
   "metadata": {},
   "outputs": [
    {
     "name": "stdout",
     "output_type": "stream",
     "text": [
      "File written to /home/nickyoungblut/dev/python/scBaseCount_analysis/data/chris_data/2025-07-03_aidb_add-meta-star.csv\n"
     ]
    }
   ],
   "source": [
    "# write output\n",
    "outfile = base_dir /  'data' / 'chris_data' / '2025-07-03_aidb_add-meta-star.csv'\n",
    "sum_info_f.to_csv(outfile, index=False)\n",
    "print(f\"File written to {outfile}\")"
   ]
  },
  {
   "cell_type": "markdown",
   "metadata": {},
   "source": [
    "### Upload to database and `prodC` GCP bucket location"
   ]
  },
  {
   "cell_type": "code",
   "execution_count": 34,
   "metadata": {},
   "outputs": [
    {
     "name": "stdout",
     "output_type": "stream",
     "text": [
      "True\n",
      "True\n"
     ]
    }
   ],
   "source": [
    "csv_file = base_dir / 'data' / 'chris_data' / '2025-07-03_aidb_add-meta-star.csv'\n",
    "print(csv_file.exists())\n",
    "\n",
    "exe = base_dir / 'scripts' / 'ChrisDataNoSRX2SQL-DB.py'\n",
    "print(exe.exists())"
   ]
  },
  {
   "cell_type": "markdown",
   "metadata": {},
   "source": [
    "#### Test Run"
   ]
  },
  {
   "cell_type": "code",
   "execution_count": 37,
   "metadata": {},
   "outputs": [
    {
     "name": "stdout",
     "output_type": "stream",
     "text": [
      "#!/bin/bash\n",
      "#SBATCH --job-name=ChrisDataNoSRX2SQLDB  \n",
      "#SBATCH --output=ChrisDataNoSRX2SQLDB.out\n",
      "#SBATCH --error=ChrisDataNoSRX2SQLDB.err\n",
      "#SBATCH --ntasks=1 \n",
      "#SBATCH --cpus-per-task=1\n",
      "#SBATCH --mem=8G\n",
      "#SBATCH --time=8:00:00\n",
      "\n",
      "/home/nickyoungblut/dev/python/scBaseCount_analysis/scripts/ChrisDataNoSRX2SQL-DB.py \\\n",
      "  --tenant test \\\n",
      "  --max-datasets 2 \\\n",
      "  --samples-table /home/nickyoungblut/dev/python/scBaseCount_analysis/data/chris_data/2025-07-03_aidb_add-meta-star.csv \\\n",
      "  --ignore-missing \\\n",
      "  --gcp-bucket gs://arc-ctc-screcounter/test/prodC/ \\\n",
      "  --database sra \\\n",
      "  --is-illumina yes \\\n",
      "  --is-single-cell yes \\\n",
      "  --is-paired-end yes \\\n",
      "  --lib-prep 10x_Genomics \\\n",
      "  --tech-10x 5_prime_gex \\\n",
      "  --cell-prep single_cell \\\n",
      "  --organism \"Home sapiens\" \\\n",
      "  --tissue \"blood\" \\\n",
      "  --tissue-ontology-term-id \"UBERON:0000178\" \\\n",
      "  --czi-collection-name \"Asian immune diversity atlas\" \\\n",
      "  --czi-collection-id \"ced320a1-29f3-47c1-a735-513c7084d508\" \\\n",
      "  --notes \"Processed manually by Chris\"\n"
     ]
    }
   ],
   "source": [
    "slurm_job = f\"\"\"#!/bin/bash\n",
    "#SBATCH --job-name=ChrisDataNoSRX2SQLDB  \n",
    "#SBATCH --output=ChrisDataNoSRX2SQLDB.out\n",
    "#SBATCH --error=ChrisDataNoSRX2SQLDB.err\n",
    "#SBATCH --ntasks=1 \n",
    "#SBATCH --cpus-per-task=1\n",
    "#SBATCH --mem=8G\n",
    "#SBATCH --time=8:00:00\n",
    "\n",
    "{exe} \\\\\n",
    "  --tenant test \\\\\n",
    "  --max-datasets 2 \\\\\n",
    "  --samples-table {csv_file} \\\\\n",
    "  --ignore-missing \\\\\n",
    "  --gcp-bucket gs://arc-ctc-screcounter/test/prodC/ \\\\\n",
    "  --database sra \\\\\n",
    "  --is-illumina yes \\\\\n",
    "  --is-single-cell yes \\\\\n",
    "  --is-paired-end yes \\\\\n",
    "  --lib-prep 10x_Genomics \\\\\n",
    "  --tech-10x 5_prime_gex \\\\\n",
    "  --cell-prep single_cell \\\\\n",
    "  --organism \"Home sapiens\" \\\\\n",
    "  --tissue \"blood\" \\\\\n",
    "  --tissue-ontology-term-id \"UBERON:0000178\" \\\\\n",
    "  --czi-collection-name \"Asian immune diversity atlas\" \\\\\n",
    "  --czi-collection-id \"ced320a1-29f3-47c1-a735-513c7084d508\" \\\\\n",
    "  --notes \"Processed manually by Chris\"\n",
    "\"\"\"\n",
    "\n",
    "job_file = \"ChrisDataNoSRX2SQL-DB.sh\"\n",
    "with open(job_file, \"w\") as f:\n",
    "    f.write(slurm_job)\n",
    "\n",
    "!chmod +x ChrisDataNoSRX2SQL-DB.sh\n",
    "!cat ChrisDataNoSRX2SQL-DB.sh"
   ]
  },
  {
   "cell_type": "code",
   "execution_count": 38,
   "metadata": {},
   "outputs": [
    {
     "name": "stdout",
     "output_type": "stream",
     "text": [
      "Submitted batch job 935510\n"
     ]
    }
   ],
   "source": [
    "# submit job\n",
    "!sbatch ChrisDataNoSRX2SQL-DB.sh"
   ]
  },
  {
   "cell_type": "code",
   "execution_count": 41,
   "metadata": {},
   "outputs": [],
   "source": [
    "# check for errors\n",
    "!tail ChrisDataNoSRX2SQLDB.err"
   ]
  },
  {
   "cell_type": "markdown",
   "metadata": {},
   "source": [
    "#### Full run"
   ]
  },
  {
   "cell_type": "code",
   "execution_count": null,
   "metadata": {},
   "outputs": [],
   "source": [
    "slurm_job = f\"\"\"#!/bin/bash\n",
    "#SBATCH --job-name=ChrisDataNoSRX2SQLDB  \n",
    "#SBATCH --output=ChrisDataNoSRX2SQLDB.out\n",
    "#SBATCH --error=ChrisDataNoSRX2SQLDB.err\n",
    "#SBATCH --ntasks=1 \n",
    "#SBATCH --cpus-per-task=1\n",
    "#SBATCH --mem=12G\n",
    "#SBATCH --time=72:00:00\n",
    "\n",
    "{exe} \\\\\n",
    "  --tenant prod \\\\\n",
    "  --samples-table {csv_file} \\\\\n",
    "  --ignore-missing \\\\\n",
    "  --gcp-bucket gs://arc-ctc-screcounter/prodC/ \\\\\n",
    "  --database sra \\\\\n",
    "  --is-illumina yes \\\\\n",
    "  --is-single-cell yes \\\\\n",
    "  --is-paired-end yes \\\\\n",
    "  --lib-prep 10x_Genomics \\\\\n",
    "  --tech-10x 5_prime_gex \\\\\n",
    "  --cell-prep single_cell \\\\\n",
    "  --organism \"Home sapiens\" \\\\\n",
    "  --tissue \"blood\" \\\\\n",
    "  --tissue-ontology-term-id \"UBERON:0000178\" \\\\\n",
    "  --czi-collection-name \"Asian immune diversity atlas\" \\\\\n",
    "  --czi-collection-id \"ced320a1-29f3-47c1-a735-513c7084d508\" \\\\\n",
    "  --notes \"Processed manually by Chris\"\n",
    "\"\"\"\n",
    "\n",
    "job_file = \"ChrisDataNoSRX2SQL-DB.sh\"\n",
    "with open(job_file, \"w\") as f:\n",
    "    f.write(slurm_job)\n",
    "\n",
    "!chmod +x ChrisDataNoSRX2SQL-DB.sh\n",
    "!cat ChrisDataNoSRX2SQL-DB.sh"
   ]
  },
  {
   "cell_type": "code",
   "execution_count": null,
   "metadata": {},
   "outputs": [],
   "source": [
    "# submit job\n",
    "!sbatch ChrisDataNoSRX2SQL-DB.sh"
   ]
  },
  {
   "cell_type": "code",
   "execution_count": null,
   "metadata": {},
   "outputs": [],
   "source": [
    "# check for errors\n",
    "!tail -n 20 ChrisDataNoSRX2SQLDB.err"
   ]
  }
 ],
 "metadata": {
  "kernelspec": {
   "display_name": "SRAgent_nb",
   "language": "python",
   "name": "python3"
  },
  "language_info": {
   "codemirror_mode": {
    "name": "ipython",
    "version": 3
   },
   "file_extension": ".py",
   "mimetype": "text/x-python",
   "name": "python",
   "nbconvert_exporter": "python",
   "pygments_lexer": "ipython3",
   "version": "3.12.9"
  }
 },
 "nbformat": 4,
 "nbformat_minor": 2
}
