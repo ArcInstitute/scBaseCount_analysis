{
 "cells": [
  {
   "cell_type": "markdown",
   "metadata": {},
   "source": [
    "# Goal\n",
    "\n",
    "* Summarize data in Cell X Gene by using the census python package"
   ]
  },
  {
   "cell_type": "code",
   "execution_count": 11,
   "metadata": {},
   "outputs": [],
   "source": [
    "from pathlib import Path\n",
    "import pandas as pd\n",
    "import cellxgene_census\n",
    "# set number of rows to display to 1000\n",
    "pd.set_option('display.max_rows', 4)"
   ]
  },
  {
   "cell_type": "code",
   "execution_count": 12,
   "metadata": {},
   "outputs": [
    {
     "data": {
      "text/plain": [
       "PosixPath('/home/nickyoungblut/dev/python/scBaseCount_analysis')"
      ]
     },
     "execution_count": 12,
     "metadata": {},
     "output_type": "execute_result"
    }
   ],
   "source": [
    "# get root of git repo\n",
    "base_dir = !git rev-parse --show-toplevel\n",
    "base_dir = Path(base_dir[0])\n",
    "base_dir"
   ]
  },
  {
   "cell_type": "markdown",
   "metadata": {},
   "source": [
    "# Schema"
   ]
  },
  {
   "cell_type": "code",
   "execution_count": 2,
   "metadata": {},
   "outputs": [
    {
     "name": "stdout",
     "output_type": "stream",
     "text": [
      "soma_joinid: int64 not null\n",
      "dataset_id: dictionary<values=string, indices=int16, ordered=0>\n",
      "assay: dictionary<values=string, indices=int8, ordered=0>\n",
      "assay_ontology_term_id: dictionary<values=string, indices=int8, ordered=0>\n",
      "cell_type: dictionary<values=string, indices=int16, ordered=0>\n",
      "cell_type_ontology_term_id: dictionary<values=string, indices=int16, ordered=0>\n",
      "development_stage: dictionary<values=string, indices=int16, ordered=0>\n",
      "development_stage_ontology_term_id: dictionary<values=string, indices=int16, ordered=0>\n",
      "disease: dictionary<values=string, indices=int16, ordered=0>\n",
      "disease_ontology_term_id: dictionary<values=string, indices=int16, ordered=0>\n",
      "donor_id: dictionary<values=string, indices=int16, ordered=0>\n",
      "is_primary_data: bool\n",
      "observation_joinid: large_string\n",
      "self_reported_ethnicity: dictionary<values=string, indices=int8, ordered=0>\n",
      "self_reported_ethnicity_ontology_term_id: dictionary<values=string, indices=int8, ordered=0>\n",
      "sex: dictionary<values=string, indices=int8, ordered=0>\n",
      "sex_ontology_term_id: dictionary<values=string, indices=int8, ordered=0>\n",
      "suspension_type: dictionary<values=string, indices=int8, ordered=0>\n",
      "tissue: dictionary<values=string, indices=int16, ordered=0>\n",
      "tissue_ontology_term_id: dictionary<values=string, indices=int16, ordered=0>\n",
      "tissue_type: dictionary<values=string, indices=int8, ordered=0>\n",
      "tissue_general: dictionary<values=string, indices=int8, ordered=0>\n",
      "tissue_general_ontology_term_id: dictionary<values=string, indices=int8, ordered=0>\n",
      "raw_sum: double\n",
      "nnz: int64\n",
      "raw_mean_nnz: double\n",
      "raw_variance_nnz: double\n",
      "n_measured_vars: int64\n"
     ]
    }
   ],
   "source": [
    "with cellxgene_census.open_soma(census_version=\"2025-01-30\") as census:\n",
    "    print(census[\"census_data\"][\"homo_sapiens\"].obs.schema)"
   ]
  },
  {
   "cell_type": "markdown",
   "metadata": {},
   "source": [
    "# List datasets"
   ]
  },
  {
   "cell_type": "code",
   "execution_count": 4,
   "metadata": {},
   "outputs": [
    {
     "data": {
      "text/html": [
       "<div>\n",
       "<style scoped>\n",
       "    .dataframe tbody tr th:only-of-type {\n",
       "        vertical-align: middle;\n",
       "    }\n",
       "\n",
       "    .dataframe tbody tr th {\n",
       "        vertical-align: top;\n",
       "    }\n",
       "\n",
       "    .dataframe thead th {\n",
       "        text-align: right;\n",
       "    }\n",
       "</style>\n",
       "<table border=\"1\" class=\"dataframe\">\n",
       "  <thead>\n",
       "    <tr style=\"text-align: right;\">\n",
       "      <th></th>\n",
       "      <th>soma_joinid</th>\n",
       "      <th>citation</th>\n",
       "      <th>collection_id</th>\n",
       "      <th>collection_name</th>\n",
       "      <th>collection_doi</th>\n",
       "      <th>collection_doi_label</th>\n",
       "      <th>dataset_id</th>\n",
       "      <th>dataset_version_id</th>\n",
       "      <th>dataset_title</th>\n",
       "      <th>dataset_h5ad_path</th>\n",
       "      <th>dataset_total_cell_count</th>\n",
       "    </tr>\n",
       "  </thead>\n",
       "  <tbody>\n",
       "    <tr>\n",
       "      <th>0</th>\n",
       "      <td>0</td>\n",
       "      <td>Publication: https://doi.org/10.1016/j.isci.20...</td>\n",
       "      <td>8e880741-bf9a-4c8e-9227-934204631d2a</td>\n",
       "      <td>High Resolution Slide-seqV2 Spatial Transcript...</td>\n",
       "      <td>10.1016/j.isci.2022.104097</td>\n",
       "      <td>Marshall et al. (2022) iScience</td>\n",
       "      <td>4eb29386-de81-452f-b3c0-e00844e8c7fd</td>\n",
       "      <td>f76861bb-becb-4eb7-82fc-782dc96ccc7f</td>\n",
       "      <td>Spatial transcriptomics in mouse: Puck_191112_05</td>\n",
       "      <td>4eb29386-de81-452f-b3c0-e00844e8c7fd.h5ad</td>\n",
       "      <td>10888</td>\n",
       "    </tr>\n",
       "    <tr>\n",
       "      <th>1</th>\n",
       "      <td>1</td>\n",
       "      <td>Publication: https://doi.org/10.1016/j.isci.20...</td>\n",
       "      <td>8e880741-bf9a-4c8e-9227-934204631d2a</td>\n",
       "      <td>High Resolution Slide-seqV2 Spatial Transcript...</td>\n",
       "      <td>10.1016/j.isci.2022.104097</td>\n",
       "      <td>Marshall et al. (2022) iScience</td>\n",
       "      <td>78d59e4a-82eb-4a61-a1dc-da974d7ea54b</td>\n",
       "      <td>7d7ec1b6-6e3f-4aaa-9442-4b22f3424396</td>\n",
       "      <td>Spatial transcriptomics in mouse: Puck_191112_08</td>\n",
       "      <td>78d59e4a-82eb-4a61-a1dc-da974d7ea54b.h5ad</td>\n",
       "      <td>10250</td>\n",
       "    </tr>\n",
       "    <tr>\n",
       "      <th>...</th>\n",
       "      <td>...</td>\n",
       "      <td>...</td>\n",
       "      <td>...</td>\n",
       "      <td>...</td>\n",
       "      <td>...</td>\n",
       "      <td>...</td>\n",
       "      <td>...</td>\n",
       "      <td>...</td>\n",
       "      <td>...</td>\n",
       "      <td>...</td>\n",
       "      <td>...</td>\n",
       "    </tr>\n",
       "    <tr>\n",
       "      <th>1571</th>\n",
       "      <td>1571</td>\n",
       "      <td>Publication: https://doi.org/10.1038/s41593-02...</td>\n",
       "      <td>1ca90a2d-2943-483d-b678-b809bf464c30</td>\n",
       "      <td>SEA-AD: Seattle Alzheimer’s Disease Brain Cell...</td>\n",
       "      <td>10.1038/s41593-024-01774-5</td>\n",
       "      <td>Gabitto et al. (2024) Nat Neurosci</td>\n",
       "      <td>c2876b1b-06d8-4d96-a56b-5304f815b99a</td>\n",
       "      <td>c32964d2-3339-441f-8e56-7177234c7876</td>\n",
       "      <td>Whole Taxonomy - MTG: Seattle Alzheimer's Dise...</td>\n",
       "      <td>c2876b1b-06d8-4d96-a56b-5304f815b99a.h5ad</td>\n",
       "      <td>1226855</td>\n",
       "    </tr>\n",
       "    <tr>\n",
       "      <th>1572</th>\n",
       "      <td>1572</td>\n",
       "      <td>Publication: https://doi.org/10.1038/s41593-02...</td>\n",
       "      <td>1ca90a2d-2943-483d-b678-b809bf464c30</td>\n",
       "      <td>SEA-AD: Seattle Alzheimer’s Disease Brain Cell...</td>\n",
       "      <td>10.1038/s41593-024-01774-5</td>\n",
       "      <td>Gabitto et al. (2024) Nat Neurosci</td>\n",
       "      <td>6f7fd0f1-a2ed-4ff1-80d3-33dde731cbc3</td>\n",
       "      <td>d3427e8c-c55d-4d4e-b15b-1a8774cd3a4b</td>\n",
       "      <td>Whole Taxonomy - DLPFC: Seattle Alzheimer's Di...</td>\n",
       "      <td>6f7fd0f1-a2ed-4ff1-80d3-33dde731cbc3.h5ad</td>\n",
       "      <td>1309414</td>\n",
       "    </tr>\n",
       "  </tbody>\n",
       "</table>\n",
       "<p>1573 rows × 11 columns</p>\n",
       "</div>"
      ],
      "text/plain": [
       "      soma_joinid                                           citation  \\\n",
       "0               0  Publication: https://doi.org/10.1016/j.isci.20...   \n",
       "1               1  Publication: https://doi.org/10.1016/j.isci.20...   \n",
       "...           ...                                                ...   \n",
       "1571         1571  Publication: https://doi.org/10.1038/s41593-02...   \n",
       "1572         1572  Publication: https://doi.org/10.1038/s41593-02...   \n",
       "\n",
       "                             collection_id  \\\n",
       "0     8e880741-bf9a-4c8e-9227-934204631d2a   \n",
       "1     8e880741-bf9a-4c8e-9227-934204631d2a   \n",
       "...                                    ...   \n",
       "1571  1ca90a2d-2943-483d-b678-b809bf464c30   \n",
       "1572  1ca90a2d-2943-483d-b678-b809bf464c30   \n",
       "\n",
       "                                        collection_name  \\\n",
       "0     High Resolution Slide-seqV2 Spatial Transcript...   \n",
       "1     High Resolution Slide-seqV2 Spatial Transcript...   \n",
       "...                                                 ...   \n",
       "1571  SEA-AD: Seattle Alzheimer’s Disease Brain Cell...   \n",
       "1572  SEA-AD: Seattle Alzheimer’s Disease Brain Cell...   \n",
       "\n",
       "                  collection_doi                collection_doi_label  \\\n",
       "0     10.1016/j.isci.2022.104097     Marshall et al. (2022) iScience   \n",
       "1     10.1016/j.isci.2022.104097     Marshall et al. (2022) iScience   \n",
       "...                          ...                                 ...   \n",
       "1571  10.1038/s41593-024-01774-5  Gabitto et al. (2024) Nat Neurosci   \n",
       "1572  10.1038/s41593-024-01774-5  Gabitto et al. (2024) Nat Neurosci   \n",
       "\n",
       "                                dataset_id  \\\n",
       "0     4eb29386-de81-452f-b3c0-e00844e8c7fd   \n",
       "1     78d59e4a-82eb-4a61-a1dc-da974d7ea54b   \n",
       "...                                    ...   \n",
       "1571  c2876b1b-06d8-4d96-a56b-5304f815b99a   \n",
       "1572  6f7fd0f1-a2ed-4ff1-80d3-33dde731cbc3   \n",
       "\n",
       "                        dataset_version_id  \\\n",
       "0     f76861bb-becb-4eb7-82fc-782dc96ccc7f   \n",
       "1     7d7ec1b6-6e3f-4aaa-9442-4b22f3424396   \n",
       "...                                    ...   \n",
       "1571  c32964d2-3339-441f-8e56-7177234c7876   \n",
       "1572  d3427e8c-c55d-4d4e-b15b-1a8774cd3a4b   \n",
       "\n",
       "                                          dataset_title  \\\n",
       "0      Spatial transcriptomics in mouse: Puck_191112_05   \n",
       "1      Spatial transcriptomics in mouse: Puck_191112_08   \n",
       "...                                                 ...   \n",
       "1571  Whole Taxonomy - MTG: Seattle Alzheimer's Dise...   \n",
       "1572  Whole Taxonomy - DLPFC: Seattle Alzheimer's Di...   \n",
       "\n",
       "                              dataset_h5ad_path  dataset_total_cell_count  \n",
       "0     4eb29386-de81-452f-b3c0-e00844e8c7fd.h5ad                     10888  \n",
       "1     78d59e4a-82eb-4a61-a1dc-da974d7ea54b.h5ad                     10250  \n",
       "...                                         ...                       ...  \n",
       "1571  c2876b1b-06d8-4d96-a56b-5304f815b99a.h5ad                   1226855  \n",
       "1572  6f7fd0f1-a2ed-4ff1-80d3-33dde731cbc3.h5ad                   1309414  \n",
       "\n",
       "[1573 rows x 11 columns]"
      ]
     },
     "execution_count": 4,
     "metadata": {},
     "output_type": "execute_result"
    }
   ],
   "source": [
    "# Get collection-dataset table\n",
    "with cellxgene_census.open_soma(census_version=\"2025-01-30\") as census:\n",
    "    datasets = (\n",
    "        census[\"census_info\"][\"datasets\"]\n",
    "        .read()\n",
    "        .concat()\n",
    "        .to_pandas()\n",
    "    )\n",
    "datasets"
   ]
  },
  {
   "cell_type": "markdown",
   "metadata": {},
   "source": [
    "# Get all tissues"
   ]
  },
  {
   "cell_type": "markdown",
   "metadata": {},
   "source": [
    "### Cell x Gene"
   ]
  },
  {
   "cell_type": "code",
   "execution_count": 20,
   "metadata": {},
   "outputs": [
    {
     "data": {
      "text/html": [
       "<div>\n",
       "<style scoped>\n",
       "    .dataframe tbody tr th:only-of-type {\n",
       "        vertical-align: middle;\n",
       "    }\n",
       "\n",
       "    .dataframe tbody tr th {\n",
       "        vertical-align: top;\n",
       "    }\n",
       "\n",
       "    .dataframe thead th {\n",
       "        text-align: right;\n",
       "    }\n",
       "</style>\n",
       "<table border=\"1\" class=\"dataframe\">\n",
       "  <thead>\n",
       "    <tr style=\"text-align: right;\">\n",
       "      <th></th>\n",
       "      <th>tissue</th>\n",
       "      <th>tissue_general</th>\n",
       "      <th>tissue_ontology_term_id</th>\n",
       "      <th>organism</th>\n",
       "    </tr>\n",
       "  </thead>\n",
       "  <tbody>\n",
       "    <tr>\n",
       "      <th>0</th>\n",
       "      <td>liver</td>\n",
       "      <td>liver</td>\n",
       "      <td>UBERON:0002107</td>\n",
       "      <td>homo_sapiens</td>\n",
       "    </tr>\n",
       "    <tr>\n",
       "      <th>1</th>\n",
       "      <td>caudate lobe of liver</td>\n",
       "      <td>liver</td>\n",
       "      <td>UBERON:0001117</td>\n",
       "      <td>homo_sapiens</td>\n",
       "    </tr>\n",
       "    <tr>\n",
       "      <th>...</th>\n",
       "      <td>...</td>\n",
       "      <td>...</td>\n",
       "      <td>...</td>\n",
       "      <td>...</td>\n",
       "    </tr>\n",
       "    <tr>\n",
       "      <th>3</th>\n",
       "      <td>tonsil</td>\n",
       "      <td>immune system</td>\n",
       "      <td>UBERON:0002372</td>\n",
       "      <td>homo_sapiens</td>\n",
       "    </tr>\n",
       "    <tr>\n",
       "      <th>4</th>\n",
       "      <td>superior frontal gyrus</td>\n",
       "      <td>brain</td>\n",
       "      <td>UBERON:0002661</td>\n",
       "      <td>homo_sapiens</td>\n",
       "    </tr>\n",
       "  </tbody>\n",
       "</table>\n",
       "<p>5 rows × 4 columns</p>\n",
       "</div>"
      ],
      "text/plain": [
       "                    tissue tissue_general tissue_ontology_term_id  \\\n",
       "0                    liver          liver          UBERON:0002107   \n",
       "1    caudate lobe of liver          liver          UBERON:0001117   \n",
       "..                     ...            ...                     ...   \n",
       "3                   tonsil  immune system          UBERON:0002372   \n",
       "4   superior frontal gyrus          brain          UBERON:0002661   \n",
       "\n",
       "        organism  \n",
       "0   homo_sapiens  \n",
       "1   homo_sapiens  \n",
       "..           ...  \n",
       "3   homo_sapiens  \n",
       "4   homo_sapiens  \n",
       "\n",
       "[5 rows x 4 columns]"
      ]
     },
     "execution_count": 20,
     "metadata": {},
     "output_type": "execute_result"
    }
   ],
   "source": [
    "# filter human datasets to targets\n",
    "cxg_tissues = []\n",
    "organisms = [\"homo_sapiens\", \"mus_musculus\"]\n",
    "with cellxgene_census.open_soma(census_version=\"2025-01-30\") as census:\n",
    "    for organism in organisms:\n",
    "        df = (\n",
    "            census[\"census_data\"][organism]\n",
    "            .obs.read(column_names = [\"tissue\", \"tissue_general\", \"tissue_ontology_term_id\"])\n",
    "            .concat()\n",
    "            .group_by([\"tissue\", \"tissue_general\", \"tissue_ontology_term_id\"])\n",
    "            .aggregate([])\n",
    "            .to_pandas() \n",
    "        )\n",
    "        df[\"organism\"] = organism\n",
    "        cxg_tissues.append(df)\n",
    "cxg_tissues = pd.concat(cxg_tissues)\n",
    "cxg_tissues.head()"
   ]
  },
  {
   "cell_type": "code",
   "execution_count": 21,
   "metadata": {},
   "outputs": [
    {
     "data": {
      "text/plain": [
       "70"
      ]
     },
     "execution_count": 21,
     "metadata": {},
     "output_type": "execute_result"
    }
   ],
   "source": [
    "# number of unique tissue categories\n",
    "len(cxg_tissues['tissue_general'].unique())"
   ]
  },
  {
   "cell_type": "markdown",
   "metadata": {},
   "source": [
    "### scBaseCount"
   ]
  },
  {
   "cell_type": "code",
   "execution_count": 14,
   "metadata": {},
   "outputs": [
    {
     "data": {
      "text/html": [
       "<div>\n",
       "<style scoped>\n",
       "    .dataframe tbody tr th:only-of-type {\n",
       "        vertical-align: middle;\n",
       "    }\n",
       "\n",
       "    .dataframe tbody tr th {\n",
       "        vertical-align: top;\n",
       "    }\n",
       "\n",
       "    .dataframe thead th {\n",
       "        text-align: right;\n",
       "    }\n",
       "</style>\n",
       "<table border=\"1\" class=\"dataframe\">\n",
       "  <thead>\n",
       "    <tr style=\"text-align: right;\">\n",
       "      <th></th>\n",
       "      <th>tissue</th>\n",
       "      <th>category</th>\n",
       "    </tr>\n",
       "  </thead>\n",
       "  <tbody>\n",
       "    <tr>\n",
       "      <th>0</th>\n",
       "      <td>2 layer spheroid</td>\n",
       "      <td>other</td>\n",
       "    </tr>\n",
       "    <tr>\n",
       "      <th>1</th>\n",
       "      <td>3 layer spheroid channel 1,epithelial</td>\n",
       "      <td>other</td>\n",
       "    </tr>\n",
       "    <tr>\n",
       "      <th>...</th>\n",
       "      <td>...</td>\n",
       "      <td>...</td>\n",
       "    </tr>\n",
       "    <tr>\n",
       "      <th>3</th>\n",
       "      <td>3D healthy skin model</td>\n",
       "      <td>skin of body</td>\n",
       "    </tr>\n",
       "    <tr>\n",
       "      <th>4</th>\n",
       "      <td>A549 cells</td>\n",
       "      <td>lung</td>\n",
       "    </tr>\n",
       "  </tbody>\n",
       "</table>\n",
       "<p>5 rows × 2 columns</p>\n",
       "</div>"
      ],
      "text/plain": [
       "                                   tissue      category\n",
       "0                        2 layer spheroid         other\n",
       "1   3 layer spheroid channel 1,epithelial         other\n",
       "..                                    ...           ...\n",
       "3                   3D healthy skin model  skin of body\n",
       "4                              A549 cells          lung\n",
       "\n",
       "[5 rows x 2 columns]"
      ]
     },
     "execution_count": 14,
     "metadata": {},
     "output_type": "execute_result"
    }
   ],
   "source": [
    "scbc_tissues_file = base_dir / \"data\" / \"tissues\" / \"2025-03-11_tissue_categories.csv.gz\"\n",
    "scbc_tissues = pd.read_csv(scbc_tissues_file)\n",
    "scbc_tissues.head()\n"
   ]
  },
  {
   "cell_type": "code",
   "execution_count": 22,
   "metadata": {},
   "outputs": [
    {
     "data": {
      "text/plain": [
       "76"
      ]
     },
     "execution_count": 22,
     "metadata": {},
     "output_type": "execute_result"
    }
   ],
   "source": [
    "# number of unique tissue categories\n",
    "len(scbc_tissues[\"category\"].unique())"
   ]
  },
  {
   "cell_type": "markdown",
   "metadata": {},
   "source": [
    "# Get unique onotology terms"
   ]
  },
  {
   "cell_type": "code",
   "execution_count": 7,
   "metadata": {},
   "outputs": [
    {
     "data": {
      "text/html": [
       "<div>\n",
       "<style scoped>\n",
       "    .dataframe tbody tr th:only-of-type {\n",
       "        vertical-align: middle;\n",
       "    }\n",
       "\n",
       "    .dataframe tbody tr th {\n",
       "        vertical-align: top;\n",
       "    }\n",
       "\n",
       "    .dataframe thead th {\n",
       "        text-align: right;\n",
       "    }\n",
       "</style>\n",
       "<table border=\"1\" class=\"dataframe\">\n",
       "  <thead>\n",
       "    <tr style=\"text-align: right;\">\n",
       "      <th></th>\n",
       "      <th>tissue</th>\n",
       "      <th>tissue_ontology_term_id</th>\n",
       "      <th>organism</th>\n",
       "    </tr>\n",
       "  </thead>\n",
       "  <tbody>\n",
       "    <tr>\n",
       "      <th>0</th>\n",
       "      <td>breast</td>\n",
       "      <td>UBERON:0000310</td>\n",
       "      <td>homo_sapiens</td>\n",
       "    </tr>\n",
       "    <tr>\n",
       "      <th>1</th>\n",
       "      <td>cerebral cortex</td>\n",
       "      <td>UBERON:0000956</td>\n",
       "      <td>homo_sapiens</td>\n",
       "    </tr>\n",
       "    <tr>\n",
       "      <th>...</th>\n",
       "      <td>...</td>\n",
       "      <td>...</td>\n",
       "      <td>...</td>\n",
       "    </tr>\n",
       "    <tr>\n",
       "      <th>3</th>\n",
       "      <td>liver</td>\n",
       "      <td>UBERON:0002107</td>\n",
       "      <td>homo_sapiens</td>\n",
       "    </tr>\n",
       "    <tr>\n",
       "      <th>4</th>\n",
       "      <td>skin epidermis</td>\n",
       "      <td>UBERON:0001003</td>\n",
       "      <td>homo_sapiens</td>\n",
       "    </tr>\n",
       "  </tbody>\n",
       "</table>\n",
       "<p>5 rows × 3 columns</p>\n",
       "</div>"
      ],
      "text/plain": [
       "             tissue tissue_ontology_term_id      organism\n",
       "0            breast          UBERON:0000310  homo_sapiens\n",
       "1   cerebral cortex          UBERON:0000956  homo_sapiens\n",
       "..              ...                     ...           ...\n",
       "3             liver          UBERON:0002107  homo_sapiens\n",
       "4    skin epidermis          UBERON:0001003  homo_sapiens\n",
       "\n",
       "[5 rows x 3 columns]"
      ]
     },
     "execution_count": 7,
     "metadata": {},
     "output_type": "execute_result"
    }
   ],
   "source": [
    "# filter human datasets to targets\n",
    "with cellxgene_census.open_soma(census_version=\"2025-01-30\") as census:\n",
    "    tissue_ontology = (\n",
    "        census[\"census_data\"][\"homo_sapiens\"]\n",
    "        .obs.read(column_names = [\"tissue_ontology_term_id\"])\n",
    "        .concat()\n",
    "        .group_by([\"tissue\", \"tissue_ontology_term_id\"])\n",
    "        .aggregate([])\n",
    "        .to_pandas() \n",
    "    )\n",
    "tissue_ontology.head()"
   ]
  },
  {
   "cell_type": "code",
   "execution_count": null,
   "metadata": {},
   "outputs": [],
   "source": [
    "# filter human datasets to targets\n",
    "with cellxgene_census.open_soma(census_version=\"2025-01-30\") as census:\n",
    "    human_tissues = (\n",
    "        census[\"census_data\"][\"homo_sapiens\"]\n",
    "        .obs.read(column_names = [\"tissue_ontology_term_id\"])\n",
    "        .concat()\n",
    "        .group_by([\"tissue\", \"tissue_ontology_term_id\"])\n",
    "        .aggregate([])\n",
    "        .to_pandas() \n",
    "    )\n",
    "human_tissues[\"organism\"] = \"homo_sapiens\"\n",
    "human_tissues"
   ]
  },
  {
   "cell_type": "code",
   "execution_count": 9,
   "metadata": {},
   "outputs": [
    {
     "data": {
      "text/html": [
       "<div>\n",
       "<style scoped>\n",
       "    .dataframe tbody tr th:only-of-type {\n",
       "        vertical-align: middle;\n",
       "    }\n",
       "\n",
       "    .dataframe tbody tr th {\n",
       "        vertical-align: top;\n",
       "    }\n",
       "\n",
       "    .dataframe thead th {\n",
       "        text-align: right;\n",
       "    }\n",
       "</style>\n",
       "<table border=\"1\" class=\"dataframe\">\n",
       "  <thead>\n",
       "    <tr style=\"text-align: right;\">\n",
       "      <th></th>\n",
       "      <th>tissue_ontology_term_id</th>\n",
       "    </tr>\n",
       "  </thead>\n",
       "  <tbody>\n",
       "  </tbody>\n",
       "</table>\n",
       "</div>"
      ],
      "text/plain": [
       "Empty DataFrame\n",
       "Columns: [tissue_ontology_term_id]\n",
       "Index: []"
      ]
     },
     "execution_count": 9,
     "metadata": {},
     "output_type": "execute_result"
    }
   ],
   "source": [
    "# any non-Uberon terms?\n",
    "tissue_ontology[~tissue_ontology[\"tissue_ontology_term_id\"].str.startswith(\"UBERON\")]"
   ]
  },
  {
   "cell_type": "code",
   "execution_count": 10,
   "metadata": {},
   "outputs": [
    {
     "data": {
      "text/html": [
       "<div>\n",
       "<style scoped>\n",
       "    .dataframe tbody tr th:only-of-type {\n",
       "        vertical-align: middle;\n",
       "    }\n",
       "\n",
       "    .dataframe tbody tr th {\n",
       "        vertical-align: top;\n",
       "    }\n",
       "\n",
       "    .dataframe thead th {\n",
       "        text-align: right;\n",
       "    }\n",
       "</style>\n",
       "<table border=\"1\" class=\"dataframe\">\n",
       "  <thead>\n",
       "    <tr style=\"text-align: right;\">\n",
       "      <th></th>\n",
       "      <th>tissue</th>\n",
       "      <th>tissue_ontology_term_id</th>\n",
       "    </tr>\n",
       "  </thead>\n",
       "  <tbody>\n",
       "    <tr>\n",
       "      <th>0</th>\n",
       "      <td>liver</td>\n",
       "      <td>UBERON:0002107</td>\n",
       "    </tr>\n",
       "    <tr>\n",
       "      <th>1</th>\n",
       "      <td>caudate lobe of liver</td>\n",
       "      <td>UBERON:0001117</td>\n",
       "    </tr>\n",
       "    <tr>\n",
       "      <th>2</th>\n",
       "      <td>thymus</td>\n",
       "      <td>UBERON:0002370</td>\n",
       "    </tr>\n",
       "    <tr>\n",
       "      <th>3</th>\n",
       "      <td>tonsil</td>\n",
       "      <td>UBERON:0002372</td>\n",
       "    </tr>\n",
       "    <tr>\n",
       "      <th>4</th>\n",
       "      <td>superior frontal gyrus</td>\n",
       "      <td>UBERON:0002661</td>\n",
       "    </tr>\n",
       "  </tbody>\n",
       "</table>\n",
       "</div>"
      ],
      "text/plain": [
       "                   tissue tissue_ontology_term_id\n",
       "0                   liver          UBERON:0002107\n",
       "1   caudate lobe of liver          UBERON:0001117\n",
       "2                  thymus          UBERON:0002370\n",
       "3                  tonsil          UBERON:0002372\n",
       "4  superior frontal gyrus          UBERON:0002661"
      ]
     },
     "execution_count": 10,
     "metadata": {},
     "output_type": "execute_result"
    }
   ],
   "source": [
    "# filter human datasets to targets\n",
    "with cellxgene_census.open_soma(census_version=\"2025-01-30\") as census:\n",
    "    tissue_ontology = (\n",
    "        census[\"census_data\"][\"homo_sapiens\"]\n",
    "        .obs.read(column_names = [\"tissue\", \"tissue_ontology_term_id\"])\n",
    "        .concat()\n",
    "        .group_by([\"tissue\", \"tissue_ontology_term_id\"])\n",
    "        .aggregate([])\n",
    "        .to_pandas() \n",
    "    )\n",
    "tissue_ontology.head()"
   ]
  },
  {
   "cell_type": "code",
   "execution_count": 15,
   "metadata": {},
   "outputs": [
    {
     "data": {
      "text/html": [
       "<div>\n",
       "<style scoped>\n",
       "    .dataframe tbody tr th:only-of-type {\n",
       "        vertical-align: middle;\n",
       "    }\n",
       "\n",
       "    .dataframe tbody tr th {\n",
       "        vertical-align: top;\n",
       "    }\n",
       "\n",
       "    .dataframe thead th {\n",
       "        text-align: right;\n",
       "    }\n",
       "</style>\n",
       "<table border=\"1\" class=\"dataframe\">\n",
       "  <thead>\n",
       "    <tr style=\"text-align: right;\">\n",
       "      <th></th>\n",
       "      <th>tissue</th>\n",
       "      <th>tissue_ontology_term_id</th>\n",
       "    </tr>\n",
       "  </thead>\n",
       "  <tbody>\n",
       "  </tbody>\n",
       "</table>\n",
       "</div>"
      ],
      "text/plain": [
       "Empty DataFrame\n",
       "Columns: [tissue, tissue_ontology_term_id]\n",
       "Index: []"
      ]
     },
     "execution_count": 15,
     "metadata": {},
     "output_type": "execute_result"
    }
   ],
   "source": [
    "# tumor tissues?\n",
    "tumor_tissues = tissue_ontology[tissue_ontology[\"tissue\"].str.contains(\"tumor\", case=False, regex=True)]\n",
    "tumor_tissues"
   ]
  },
  {
   "cell_type": "code",
   "execution_count": null,
   "metadata": {},
   "outputs": [],
   "source": []
  }
 ],
 "metadata": {
  "kernelspec": {
   "display_name": "tiledb",
   "language": "python",
   "name": "python3"
  },
  "language_info": {
   "codemirror_mode": {
    "name": "ipython",
    "version": 3
   },
   "file_extension": ".py",
   "mimetype": "text/x-python",
   "name": "python",
   "nbconvert_exporter": "python",
   "pygments_lexer": "ipython3",
   "version": "3.12.8"
  }
 },
 "nbformat": 4,
 "nbformat_minor": 2
}
