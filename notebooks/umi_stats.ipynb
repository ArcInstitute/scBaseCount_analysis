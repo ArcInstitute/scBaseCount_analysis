{
 "cells": [
  {
   "cell_type": "markdown",
   "metadata": {},
   "source": [
    "# Goal\n",
    "\n",
    "* Calculate UMI stats for the dataset"
   ]
  },
  {
   "cell_type": "code",
   "execution_count": 17,
   "metadata": {},
   "outputs": [],
   "source": [
    "import os\n",
    "from pathlib import Path\n",
    "import pandas as pd\n",
    "import plotnine as pn\n",
    "from pypika import Query, Table, functions as fn\n",
    "from SRAgent.db.connect import db_connect\n",
    "pd.set_option('display.max_columns', None)\n",
    "pd.set_option('display.max_rows', 4)\n",
    "pn.theme_set(pn.theme_bw())"
   ]
  },
  {
   "cell_type": "code",
   "execution_count": 2,
   "metadata": {},
   "outputs": [
    {
     "data": {
      "text/plain": [
       "PosixPath('/home/nickyoungblut/dev/python/scBaseCount_analysis')"
      ]
     },
     "execution_count": 2,
     "metadata": {},
     "output_type": "execute_result"
    }
   ],
   "source": [
    "# get base of github repo\n",
    "base_dir = !git rev-parse --show-toplevel\n",
    "base_dir = Path(base_dir[0])\n",
    "base_dir"
   ]
  },
  {
   "cell_type": "code",
   "execution_count": 12,
   "metadata": {},
   "outputs": [],
   "source": [
    "# set number of columns to display\n",
    "pd.set_option('display.max_columns', None)\n",
    "pd.set_option('display.max_rows', 4)"
   ]
  },
  {
   "cell_type": "code",
   "execution_count": 4,
   "metadata": {},
   "outputs": [],
   "source": [
    "# run the script to get the release dates\n",
    "release_date_file = base_dir / \"data\" / \"get-srx-date\" / \"2025-06-13_SRX-release-dates.csv\"\n",
    "#!{exe} --tenant prod --use-db --output {release_date_file}"
   ]
  },
  {
   "cell_type": "code",
   "execution_count": 31,
   "metadata": {},
   "outputs": [
    {
     "data": {
      "text/html": [
       "<div>\n",
       "<style scoped>\n",
       "    .dataframe tbody tr th:only-of-type {\n",
       "        vertical-align: middle;\n",
       "    }\n",
       "\n",
       "    .dataframe tbody tr th {\n",
       "        vertical-align: top;\n",
       "    }\n",
       "\n",
       "    .dataframe thead th {\n",
       "        text-align: right;\n",
       "    }\n",
       "</style>\n",
       "<table border=\"1\" class=\"dataframe\">\n",
       "  <thead>\n",
       "    <tr style=\"text-align: right;\">\n",
       "      <th></th>\n",
       "      <th>srx_accession</th>\n",
       "      <th>feature</th>\n",
       "      <th>estimated_number_of_cells</th>\n",
       "      <th>median_reads_per_cell</th>\n",
       "      <th>median_umi_per_cell</th>\n",
       "      <th>median_feature_per_cell</th>\n",
       "      <th>umis_in_cells</th>\n",
       "      <th>lib_prep</th>\n",
       "      <th>tech_10x</th>\n",
       "      <th>organism</th>\n",
       "      <th>tissue</th>\n",
       "      <th>tissue_ontology_term_id</th>\n",
       "      <th>cell_prep</th>\n",
       "    </tr>\n",
       "  </thead>\n",
       "  <tbody>\n",
       "    <tr>\n",
       "      <th>0</th>\n",
       "      <td>SRX27895542</td>\n",
       "      <td>GeneFull_Ex50pAS</td>\n",
       "      <td>10377</td>\n",
       "      <td>6931.0</td>\n",
       "      <td>2020.0</td>\n",
       "      <td>891.0</td>\n",
       "      <td>54280792</td>\n",
       "      <td>10x_Genomics</td>\n",
       "      <td>5_prime_gex</td>\n",
       "      <td>Mus musculus</td>\n",
       "      <td>tumor tissue from colon26 model</td>\n",
       "      <td>UBERON:0001155</td>\n",
       "      <td>single_cell</td>\n",
       "    </tr>\n",
       "    <tr>\n",
       "      <th>1</th>\n",
       "      <td>SRX20732890</td>\n",
       "      <td>GeneFull_Ex50pAS</td>\n",
       "      <td>11833</td>\n",
       "      <td>15253.0</td>\n",
       "      <td>8551.0</td>\n",
       "      <td>3025.0</td>\n",
       "      <td>146639305</td>\n",
       "      <td>10x_Genomics</td>\n",
       "      <td>3_prime_gex</td>\n",
       "      <td>Homo sapiens</td>\n",
       "      <td>breast</td>\n",
       "      <td>UBERON:0000310</td>\n",
       "      <td>single_cell</td>\n",
       "    </tr>\n",
       "    <tr>\n",
       "      <th>...</th>\n",
       "      <td>...</td>\n",
       "      <td>...</td>\n",
       "      <td>...</td>\n",
       "      <td>...</td>\n",
       "      <td>...</td>\n",
       "      <td>...</td>\n",
       "      <td>...</td>\n",
       "      <td>...</td>\n",
       "      <td>...</td>\n",
       "      <td>...</td>\n",
       "      <td>...</td>\n",
       "      <td>...</td>\n",
       "      <td>...</td>\n",
       "    </tr>\n",
       "    <tr>\n",
       "      <th>59553</th>\n",
       "      <td>SRX29351873</td>\n",
       "      <td>GeneFull_Ex50pAS</td>\n",
       "      <td>6088</td>\n",
       "      <td>36348.0</td>\n",
       "      <td>20182.0</td>\n",
       "      <td>5557.0</td>\n",
       "      <td>131104087</td>\n",
       "      <td>10x_Genomics</td>\n",
       "      <td>multiome</td>\n",
       "      <td>Mus musculus</td>\n",
       "      <td>mouse embryonic stem cell nuclei</td>\n",
       "      <td></td>\n",
       "      <td>single_nucleus</td>\n",
       "    </tr>\n",
       "    <tr>\n",
       "      <th>59554</th>\n",
       "      <td>SRX28122834</td>\n",
       "      <td>GeneFull_Ex50pAS</td>\n",
       "      <td>10048</td>\n",
       "      <td>35856.0</td>\n",
       "      <td>22023.0</td>\n",
       "      <td>5246.0</td>\n",
       "      <td>248099241</td>\n",
       "      <td>10x_Genomics</td>\n",
       "      <td>3_prime_gex</td>\n",
       "      <td>Mus musculus</td>\n",
       "      <td>epiphyseal chondrocytes (from long bones of hi...</td>\n",
       "      <td>UBERON:0002516</td>\n",
       "      <td>single_cell</td>\n",
       "    </tr>\n",
       "  </tbody>\n",
       "</table>\n",
       "<p>59555 rows × 13 columns</p>\n",
       "</div>"
      ],
      "text/plain": [
       "      srx_accession           feature  estimated_number_of_cells  \\\n",
       "0       SRX27895542  GeneFull_Ex50pAS                      10377   \n",
       "1       SRX20732890  GeneFull_Ex50pAS                      11833   \n",
       "...             ...               ...                        ...   \n",
       "59553   SRX29351873  GeneFull_Ex50pAS                       6088   \n",
       "59554   SRX28122834  GeneFull_Ex50pAS                      10048   \n",
       "\n",
       "       median_reads_per_cell  median_umi_per_cell  median_feature_per_cell  \\\n",
       "0                     6931.0               2020.0                    891.0   \n",
       "1                    15253.0               8551.0                   3025.0   \n",
       "...                      ...                  ...                      ...   \n",
       "59553                36348.0              20182.0                   5557.0   \n",
       "59554                35856.0              22023.0                   5246.0   \n",
       "\n",
       "       umis_in_cells      lib_prep     tech_10x      organism  \\\n",
       "0           54280792  10x_Genomics  5_prime_gex  Mus musculus   \n",
       "1          146639305  10x_Genomics  3_prime_gex  Homo sapiens   \n",
       "...              ...           ...          ...           ...   \n",
       "59553      131104087  10x_Genomics     multiome  Mus musculus   \n",
       "59554      248099241  10x_Genomics  3_prime_gex  Mus musculus   \n",
       "\n",
       "                                                  tissue  \\\n",
       "0                        tumor tissue from colon26 model   \n",
       "1                                                 breast   \n",
       "...                                                  ...   \n",
       "59553                   mouse embryonic stem cell nuclei   \n",
       "59554  epiphyseal chondrocytes (from long bones of hi...   \n",
       "\n",
       "      tissue_ontology_term_id       cell_prep  \n",
       "0              UBERON:0001155     single_cell  \n",
       "1              UBERON:0000310     single_cell  \n",
       "...                       ...             ...  \n",
       "59553                          single_nucleus  \n",
       "59554          UBERON:0002516     single_cell  \n",
       "\n",
       "[59555 rows x 13 columns]"
      ]
     },
     "execution_count": 31,
     "metadata": {},
     "output_type": "execute_result"
    }
   ],
   "source": [
    "def get_screcounter_star_results(\n",
    "    conn, \n",
    "    feature=\"GeneFull_Ex50pAS\"\n",
    "):\n",
    "    \"\"\"\n",
    "    Get the screcounter_star_results table\n",
    "    \n",
    "    Args:\n",
    "        conn: A database connection object (e.g., sqlite3, psycopg2, etc.)\n",
    "        feature: String of the feature to filter on\n",
    "    Returns:\n",
    "        A pandas DataFrame of records\n",
    "    \"\"\"\n",
    "    \n",
    "    # Define tables\n",
    "    meta_table = Table('srx_metadata')\n",
    "    star_table = Table('screcounter_star_results')\n",
    "    \n",
    "    # Build the star query with feature filter (case insensitive)\n",
    "    star_query = (\n",
    "        Query.from_(star_table)\n",
    "        .select('*')\n",
    "        .where(\n",
    "            fn.Lower(star_table.feature) == feature.lower()\n",
    "        )\n",
    "    )\n",
    "\n",
    "    #return pd.read_sql_query(str(star_query), conn)\n",
    "    \n",
    "    # Build the main query with join\n",
    "    # Assuming you want all columns from both tables except feature from star and _at columns from meta\n",
    "    main_query = (\n",
    "        Query.from_(star_table)\n",
    "        .join(meta_table)\n",
    "        .on(star_table.sample == meta_table.srx_accession)\n",
    "        .select(\n",
    "            star_table.sample.as_('srx_accession'),\n",
    "            star_table.feature,\n",
    "            star_table.estimated_number_of_cells,\n",
    "            star_table.median_reads_per_cell,\n",
    "            star_table.median_umi_per_cell,\n",
    "            star_table.median_feature_per_cell,\n",
    "            star_table.umis_in_cells,\n",
    "            meta_table.lib_prep,\n",
    "            meta_table.tech_10x,\n",
    "            meta_table.organism,\n",
    "            meta_table.tissue,\n",
    "            meta_table.tissue_ontology_term_id,\n",
    "            meta_table.cell_prep\n",
    "        )\n",
    "        .where(\n",
    "            fn.Lower(star_table.feature) == feature.lower()\n",
    "        )\n",
    "    )\n",
    "    \n",
    "    # Execute query and return as DataFrame\n",
    "    return pd.read_sql_query(str(main_query), conn)\n",
    "\n",
    "with db_connect() as conn:\n",
    "    df_cells = get_screcounter_star_results(conn, feature=\"GeneFull_Ex50pAS\")\n",
    "df_cells"
   ]
  },
  {
   "cell_type": "code",
   "execution_count": 34,
   "metadata": {},
   "outputs": [
    {
     "data": {
      "text/plain": [
       "np.float64(6043.558772623324)"
      ]
     },
     "execution_count": 34,
     "metadata": {},
     "output_type": "execute_result"
    }
   ],
   "source": [
    "# get global mean via total umi and total cell count\n",
    "df_cells[\"umis_in_cells\"].sum() / df_cells[\"estimated_number_of_cells\"].sum()"
   ]
  },
  {
   "cell_type": "code",
   "execution_count": 13,
   "metadata": {},
   "outputs": [
    {
     "data": {
      "text/plain": [
       "count     59555.000000\n",
       "mean       5669.652288\n",
       "std        7095.051449\n",
       "min           1.000000\n",
       "25%        1407.000000\n",
       "50%        3829.000000\n",
       "75%        7288.500000\n",
       "max      173857.000000\n",
       "Name: median_umi_per_cell, dtype: float64"
      ]
     },
     "execution_count": 13,
     "metadata": {},
     "output_type": "execute_result"
    }
   ],
   "source": [
    "# distribution of umi means\n",
    "pd.set_option('display.max_rows', 10)\n",
    "df_cells['median_umi_per_cell'].describe()"
   ]
  },
  {
   "cell_type": "code",
   "execution_count": 14,
   "metadata": {},
   "outputs": [],
   "source": [
    "pd.set_option('display.max_rows', 4)"
   ]
  },
  {
   "cell_type": "code",
   "execution_count": 29,
   "metadata": {},
   "outputs": [
    {
     "data": {
      "image/png": "[encoded data removed]"
     },
     "metadata": {
      "image/png": {
       "height": 250,
       "width": 400
      }
     },
     "output_type": "display_data"
    }
   ],
   "source": [
    "# plot the distribution of UMI counts\n",
    "p = (\n",
    "    pn.ggplot(df_cells, pn.aes(x=\"median_umi_per_cell\")) +\n",
    "    pn.geom_histogram(bins=100) +\n",
    "    pn.scale_x_log10() +\n",
    "    pn.labs(x=\"Mean UMI count per cell\", y=\"SRA experiments\") +\n",
    "    pn.theme(\n",
    "        figure_size=(4, 2.5),\n",
    "    )\n",
    ")\n",
    "p"
   ]
  }
 ],
 "metadata": {
  "kernelspec": {
   "display_name": "SRAgent_nb",
   "language": "python",
   "name": "python3"
  },
  "language_info": {
   "codemirror_mode": {
    "name": "ipython",
    "version": 3
   },
   "file_extension": ".py",
   "mimetype": "text/x-python",
   "name": "python",
   "nbconvert_exporter": "python",
   "pygments_lexer": "ipython3",
   "version": "3.12.9"
  }
 },
 "nbformat": 4,
 "nbformat_minor": 2
}
