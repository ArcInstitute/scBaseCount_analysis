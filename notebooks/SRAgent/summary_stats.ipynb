{
 "cells": [
  {
   "cell_type": "markdown",
   "metadata": {},
   "source": [
    "# Goals\n",
    "\n",
    "* Summarize the stats how much data has been processed by SRAgent"
   ]
  },
  {
   "cell_type": "code",
   "execution_count": 1,
   "metadata": {},
   "outputs": [],
   "source": [
    "import os\n",
    "from pathlib import Path\n",
    "import pandas as pd\n",
    "import plotnine as pn\n",
    "from pypika import Query, Table, functions as fn\n",
    "\n",
    "from SRAgent.db.connect import db_connect"
   ]
  },
  {
   "cell_type": "code",
   "execution_count": 2,
   "metadata": {},
   "outputs": [],
   "source": [
    "pd.set_option('display.max_columns', None)\n",
    "pd.set_option('display.max_rows', 4)\n",
    "pn.theme_set(pn.theme_bw())"
   ]
  },
  {
   "cell_type": "code",
   "execution_count": 3,
   "metadata": {},
   "outputs": [
    {
     "data": {
      "text/plain": [
       "PosixPath('/home/nickyoungblut/dev/python/scBaseCount_analysis')"
      ]
     },
     "execution_count": 3,
     "metadata": {},
     "output_type": "execute_result"
    }
   ],
   "source": [
    "# get base of github repo\n",
    "base_dir = !git rev-parse --show-toplevel\n",
    "base_dir = Path(base_dir[0])\n",
    "base_dir"
   ]
  },
  {
   "cell_type": "code",
   "execution_count": 5,
   "metadata": {},
   "outputs": [],
   "source": [
    "os.environ[\"DYNACONF\"] = \"prod\""
   ]
  },
  {
   "cell_type": "markdown",
   "metadata": {},
   "source": [
    "# Datasets processed"
   ]
  },
  {
   "cell_type": "code",
   "execution_count": 11,
   "metadata": {},
   "outputs": [
    {
     "data": {
      "text/html": [
       "<div>\n",
       "<style scoped>\n",
       "    .dataframe tbody tr th:only-of-type {\n",
       "        vertical-align: middle;\n",
       "    }\n",
       "\n",
       "    .dataframe tbody tr th {\n",
       "        vertical-align: top;\n",
       "    }\n",
       "\n",
       "    .dataframe thead th {\n",
       "        text-align: right;\n",
       "    }\n",
       "</style>\n",
       "<table border=\"1\" class=\"dataframe\">\n",
       "  <thead>\n",
       "    <tr style=\"text-align: right;\">\n",
       "      <th></th>\n",
       "      <th>srx_accession</th>\n",
       "      <th>is_illumina</th>\n",
       "      <th>is_single_cell</th>\n",
       "      <th>is_paired_end</th>\n",
       "      <th>lib_prep</th>\n",
       "      <th>tech_10x</th>\n",
       "      <th>organism</th>\n",
       "      <th>czi_collection_id</th>\n",
       "    </tr>\n",
       "  </thead>\n",
       "  <tbody>\n",
       "    <tr>\n",
       "      <th>0</th>\n",
       "      <td>SRX22482811</td>\n",
       "      <td>yes</td>\n",
       "      <td>yes</td>\n",
       "      <td>yes</td>\n",
       "      <td>10x_Genomics</td>\n",
       "      <td>5_prime_gex</td>\n",
       "      <td>Homo sapiens</td>\n",
       "      <td>None</td>\n",
       "    </tr>\n",
       "    <tr>\n",
       "      <th>1</th>\n",
       "      <td>ERX14208438</td>\n",
       "      <td>yes</td>\n",
       "      <td>no</td>\n",
       "      <td>yes</td>\n",
       "      <td>not_applicable</td>\n",
       "      <td>not_applicable</td>\n",
       "      <td>Homo sapiens</td>\n",
       "      <td>None</td>\n",
       "    </tr>\n",
       "    <tr>\n",
       "      <th>...</th>\n",
       "      <td>...</td>\n",
       "      <td>...</td>\n",
       "      <td>...</td>\n",
       "      <td>...</td>\n",
       "      <td>...</td>\n",
       "      <td>...</td>\n",
       "      <td>...</td>\n",
       "      <td>...</td>\n",
       "    </tr>\n",
       "    <tr>\n",
       "      <th>208016</th>\n",
       "      <td>ERX9138738</td>\n",
       "      <td>yes</td>\n",
       "      <td>yes</td>\n",
       "      <td>no</td>\n",
       "      <td>10x_Genomics</td>\n",
       "      <td>5_prime_gex</td>\n",
       "      <td>Homo sapiens</td>\n",
       "      <td>None</td>\n",
       "    </tr>\n",
       "    <tr>\n",
       "      <th>208017</th>\n",
       "      <td>SRX5679920</td>\n",
       "      <td>yes</td>\n",
       "      <td>no</td>\n",
       "      <td>yes</td>\n",
       "      <td>other</td>\n",
       "      <td>not_applicable</td>\n",
       "      <td>Homo sapiens</td>\n",
       "      <td>None</td>\n",
       "    </tr>\n",
       "  </tbody>\n",
       "</table>\n",
       "<p>205635 rows × 8 columns</p>\n",
       "</div>"
      ],
      "text/plain": [
       "       srx_accession is_illumina is_single_cell is_paired_end        lib_prep  \\\n",
       "0        SRX22482811         yes            yes           yes    10x_Genomics   \n",
       "1        ERX14208438         yes             no           yes  not_applicable   \n",
       "...              ...         ...            ...           ...             ...   \n",
       "208016    ERX9138738         yes            yes            no    10x_Genomics   \n",
       "208017    SRX5679920         yes             no           yes           other   \n",
       "\n",
       "              tech_10x      organism czi_collection_id  \n",
       "0          5_prime_gex  Homo sapiens              None  \n",
       "1       not_applicable  Homo sapiens              None  \n",
       "...                ...           ...               ...  \n",
       "208016     5_prime_gex  Homo sapiens              None  \n",
       "208017  not_applicable  Homo sapiens              None  \n",
       "\n",
       "[205635 rows x 8 columns]"
      ]
     },
     "execution_count": 11,
     "metadata": {},
     "output_type": "execute_result"
    }
   ],
   "source": [
    "# get metadata\n",
    "meta_table = Table('srx_metadata')\n",
    "query = (\n",
    "    Query.from_(meta_table)\n",
    "    .select(\n",
    "        meta_table.srx_accession,\n",
    "        meta_table.is_illumina,\n",
    "        meta_table.is_single_cell,\n",
    "        meta_table.is_paired_end,\n",
    "        meta_table.lib_prep,\n",
    "        meta_table.tech_10x,\n",
    "        meta_table.organism,\n",
    "        meta_table.czi_collection_id\n",
    "    )\n",
    "    # .where(\n",
    "    #     meta_table.czi_collection_id is None or meta_table.czi_collection_id == \"\"\n",
    "    # )\n",
    ")\n",
    "\n",
    "with db_connect() as conn:\n",
    "    df_meta = pd.read_sql_query(str(query), conn)\n",
    "    df_meta = df_meta[df_meta[\"czi_collection_id\"].isna()]\n",
    "df_meta"
   ]
  },
  {
   "cell_type": "code",
   "execution_count": 27,
   "metadata": {},
   "outputs": [
    {
     "name": "stdout",
     "output_type": "stream",
     "text": [
      "Time to process: 142.8 days\n"
     ]
    }
   ],
   "source": [
    "# time to process, assuming human takes X minutes\n",
    "time_days = round(df_meta.shape[0] * 1 / 60 / 24, 1)\n",
    "print(f\"Time to process: {time_days} days\")"
   ]
  },
  {
   "cell_type": "code",
   "execution_count": 28,
   "metadata": {},
   "outputs": [
    {
     "name": "stdout",
     "output_type": "stream",
     "text": [
      "Total cost: $16450.80\n"
     ]
    }
   ],
   "source": [
    "# total cost, assuming $0.08 per dataset\n",
    "total_cost = df_meta.shape[0] * 0.08\n",
    "print(f\"Total cost: ${total_cost:.2f}\")"
   ]
  },
  {
   "cell_type": "code",
   "execution_count": 29,
   "metadata": {},
   "outputs": [
    {
     "name": "stdout",
     "output_type": "stream",
     "text": [
      "Total tokens: 12,955,005,000\n"
     ]
    }
   ],
   "source": [
    "# total tokens, assuming 63k tokens per dataset\n",
    "total_tokens = df_meta.shape[0] * 63000\n",
    "print(f\"Total tokens: {total_tokens:,}\")"
   ]
  },
  {
   "cell_type": "code",
   "execution_count": 16,
   "metadata": {},
   "outputs": [
    {
     "data": {
      "text/html": [
       "<div>\n",
       "<style scoped>\n",
       "    .dataframe tbody tr th:only-of-type {\n",
       "        vertical-align: middle;\n",
       "    }\n",
       "\n",
       "    .dataframe tbody tr th {\n",
       "        vertical-align: top;\n",
       "    }\n",
       "\n",
       "    .dataframe thead th {\n",
       "        text-align: right;\n",
       "    }\n",
       "</style>\n",
       "<table border=\"1\" class=\"dataframe\">\n",
       "  <thead>\n",
       "    <tr style=\"text-align: right;\">\n",
       "      <th></th>\n",
       "      <th>srx_accession</th>\n",
       "      <th>is_illumina</th>\n",
       "      <th>is_single_cell</th>\n",
       "      <th>is_paired_end</th>\n",
       "      <th>lib_prep</th>\n",
       "      <th>tech_10x</th>\n",
       "      <th>organism</th>\n",
       "      <th>czi_collection_id</th>\n",
       "    </tr>\n",
       "  </thead>\n",
       "  <tbody>\n",
       "    <tr>\n",
       "      <th>0</th>\n",
       "      <td>SRX22482811</td>\n",
       "      <td>yes</td>\n",
       "      <td>yes</td>\n",
       "      <td>yes</td>\n",
       "      <td>10x_Genomics</td>\n",
       "      <td>5_prime_gex</td>\n",
       "      <td>Homo sapiens</td>\n",
       "      <td>None</td>\n",
       "    </tr>\n",
       "    <tr>\n",
       "      <th>8</th>\n",
       "      <td>SRX13824065</td>\n",
       "      <td>yes</td>\n",
       "      <td>yes</td>\n",
       "      <td>yes</td>\n",
       "      <td>10x_Genomics</td>\n",
       "      <td>3_prime_gex</td>\n",
       "      <td>Mus musculus</td>\n",
       "      <td>None</td>\n",
       "    </tr>\n",
       "    <tr>\n",
       "      <th>...</th>\n",
       "      <td>...</td>\n",
       "      <td>...</td>\n",
       "      <td>...</td>\n",
       "      <td>...</td>\n",
       "      <td>...</td>\n",
       "      <td>...</td>\n",
       "      <td>...</td>\n",
       "      <td>...</td>\n",
       "    </tr>\n",
       "    <tr>\n",
       "      <th>208006</th>\n",
       "      <td>SRX10579573</td>\n",
       "      <td>yes</td>\n",
       "      <td>yes</td>\n",
       "      <td>yes</td>\n",
       "      <td>10x_Genomics</td>\n",
       "      <td>3_prime_gex</td>\n",
       "      <td>Homo sapiens</td>\n",
       "      <td>None</td>\n",
       "    </tr>\n",
       "    <tr>\n",
       "      <th>208015</th>\n",
       "      <td>SRX10614824</td>\n",
       "      <td>yes</td>\n",
       "      <td>yes</td>\n",
       "      <td>yes</td>\n",
       "      <td>10x_Genomics</td>\n",
       "      <td>3_prime_gex</td>\n",
       "      <td>Mus musculus</td>\n",
       "      <td>None</td>\n",
       "    </tr>\n",
       "  </tbody>\n",
       "</table>\n",
       "<p>101208 rows × 8 columns</p>\n",
       "</div>"
      ],
      "text/plain": [
       "       srx_accession is_illumina is_single_cell is_paired_end      lib_prep  \\\n",
       "0        SRX22482811         yes            yes           yes  10x_Genomics   \n",
       "8        SRX13824065         yes            yes           yes  10x_Genomics   \n",
       "...              ...         ...            ...           ...           ...   \n",
       "208006   SRX10579573         yes            yes           yes  10x_Genomics   \n",
       "208015   SRX10614824         yes            yes           yes  10x_Genomics   \n",
       "\n",
       "           tech_10x      organism czi_collection_id  \n",
       "0       5_prime_gex  Homo sapiens              None  \n",
       "8       3_prime_gex  Mus musculus              None  \n",
       "...             ...           ...               ...  \n",
       "208006  3_prime_gex  Homo sapiens              None  \n",
       "208015  3_prime_gex  Mus musculus              None  \n",
       "\n",
       "[101208 rows x 8 columns]"
      ]
     },
     "execution_count": 16,
     "metadata": {},
     "output_type": "execute_result"
    }
   ],
   "source": [
    "# filter to 10x datasets\n",
    "x = (df_meta[\"lib_prep\"] == \"10x_Genomics\") & (df_meta[\"is_illumina\"] == 'yes') & (df_meta[\"is_single_cell\"] == 'yes') & (df_meta[\"is_paired_end\"] == 'yes')\n",
    "df_meta_f = df_meta[x]\n",
    "df_meta_f"
   ]
  },
  {
   "cell_type": "code",
   "execution_count": null,
   "metadata": {},
   "outputs": [
    {
     "data": {
      "text/html": [
       "<div>\n",
       "<style scoped>\n",
       "    .dataframe tbody tr th:only-of-type {\n",
       "        vertical-align: middle;\n",
       "    }\n",
       "\n",
       "    .dataframe tbody tr th {\n",
       "        vertical-align: top;\n",
       "    }\n",
       "\n",
       "    .dataframe thead th {\n",
       "        text-align: right;\n",
       "    }\n",
       "</style>\n",
       "<table border=\"1\" class=\"dataframe\">\n",
       "  <thead>\n",
       "    <tr style=\"text-align: right;\">\n",
       "      <th></th>\n",
       "      <th>srx_accession</th>\n",
       "      <th>is_illumina</th>\n",
       "      <th>is_single_cell</th>\n",
       "      <th>is_paired_end</th>\n",
       "      <th>lib_prep</th>\n",
       "      <th>tech_10x</th>\n",
       "      <th>organism</th>\n",
       "      <th>czi_collection_id</th>\n",
       "    </tr>\n",
       "  </thead>\n",
       "  <tbody>\n",
       "    <tr>\n",
       "      <th>0</th>\n",
       "      <td>ERX10016429</td>\n",
       "      <td>yes</td>\n",
       "      <td>yes</td>\n",
       "      <td>yes</td>\n",
       "      <td>10x_Genomics</td>\n",
       "      <td>3_prime_gex</td>\n",
       "      <td>Mus musculus</td>\n",
       "      <td>None</td>\n",
       "    </tr>\n",
       "    <tr>\n",
       "      <th>1</th>\n",
       "      <td>ERX10016430</td>\n",
       "      <td>yes</td>\n",
       "      <td>yes</td>\n",
       "      <td>yes</td>\n",
       "      <td>10x_Genomics</td>\n",
       "      <td>3_prime_gex</td>\n",
       "      <td>Mus musculus</td>\n",
       "      <td>None</td>\n",
       "    </tr>\n",
       "    <tr>\n",
       "      <th>...</th>\n",
       "      <td>...</td>\n",
       "      <td>...</td>\n",
       "      <td>...</td>\n",
       "      <td>...</td>\n",
       "      <td>...</td>\n",
       "      <td>...</td>\n",
       "      <td>...</td>\n",
       "      <td>...</td>\n",
       "    </tr>\n",
       "    <tr>\n",
       "      <th>59553</th>\n",
       "      <td>SRX9995797</td>\n",
       "      <td>yes</td>\n",
       "      <td>yes</td>\n",
       "      <td>yes</td>\n",
       "      <td>10x_Genomics</td>\n",
       "      <td>3_prime_gex</td>\n",
       "      <td>Mus musculus</td>\n",
       "      <td>None</td>\n",
       "    </tr>\n",
       "    <tr>\n",
       "      <th>59554</th>\n",
       "      <td>SRX9995798</td>\n",
       "      <td>yes</td>\n",
       "      <td>yes</td>\n",
       "      <td>yes</td>\n",
       "      <td>10x_Genomics</td>\n",
       "      <td>3_prime_gex</td>\n",
       "      <td>Mus musculus</td>\n",
       "      <td>None</td>\n",
       "    </tr>\n",
       "  </tbody>\n",
       "</table>\n",
       "<p>59554 rows × 8 columns</p>\n",
       "</div>"
      ],
      "text/plain": [
       "      srx_accession is_illumina is_single_cell is_paired_end      lib_prep  \\\n",
       "0       ERX10016429         yes            yes           yes  10x_Genomics   \n",
       "1       ERX10016430         yes            yes           yes  10x_Genomics   \n",
       "...             ...         ...            ...           ...           ...   \n",
       "59553    SRX9995797         yes            yes           yes  10x_Genomics   \n",
       "59554    SRX9995798         yes            yes           yes  10x_Genomics   \n",
       "\n",
       "          tech_10x      organism czi_collection_id  \n",
       "0      3_prime_gex  Mus musculus              None  \n",
       "1      3_prime_gex  Mus musculus              None  \n",
       "...            ...           ...               ...  \n",
       "59553  3_prime_gex  Mus musculus              None  \n",
       "59554  3_prime_gex  Mus musculus              None  \n",
       "\n",
       "[59554 rows x 8 columns]"
      ]
     },
     "execution_count": 22,
     "metadata": {},
     "output_type": "execute_result"
    }
   ],
   "source": [
    "# get metadata with STAR results\n",
    "meta_table = Table('srx_metadata')\n",
    "star_table = Table('screcounter_star_results')\n",
    "query = (\n",
    "    Query.from_(meta_table)\n",
    "    .inner_join(star_table)\n",
    "    .on(meta_table.srx_accession == star_table.sample)\n",
    "    .select(\n",
    "        meta_table.srx_accession,\n",
    "        meta_table.is_illumina,\n",
    "        meta_table.is_single_cell,\n",
    "        meta_table.is_paired_end,\n",
    "        meta_table.lib_prep,\n",
    "        meta_table.tech_10x,\n",
    "        meta_table.organism,\n",
    "        meta_table.czi_collection_id\n",
    "    )\n",
    "    .distinct()\n",
    ")\n",
    "\n",
    "with db_connect() as conn:\n",
    "    df_meta_star = pd.read_sql_query(str(query), conn)\n",
    "    df_meta_star = df_meta_star[df_meta_star[\"czi_collection_id\"].isna()]\n",
    "df_meta_star"
   ]
  },
  {
   "cell_type": "markdown",
   "metadata": {},
   "source": []
  }
 ],
 "metadata": {
  "kernelspec": {
   "display_name": "SRAgent_nb",
   "language": "python",
   "name": "python3"
  },
  "language_info": {
   "codemirror_mode": {
    "name": "ipython",
    "version": 3
   },
   "file_extension": ".py",
   "mimetype": "text/x-python",
   "name": "python",
   "nbconvert_exporter": "python",
   "pygments_lexer": "ipython3",
   "version": "3.12.9"
  }
 },
 "nbformat": 4,
 "nbformat_minor": 2
}
